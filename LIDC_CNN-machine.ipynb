{
 "cells": [
  {
   "cell_type": "code",
   "execution_count": 1,
   "id": "40c7d6f2",
   "metadata": {},
   "outputs": [],
   "source": [
    "import os\n",
    "from os import path\n",
    "import pandas as pd\n",
    "import time\n",
    "import tensorflow as tf\n",
    "from tensorflow import keras\n",
    "from tensorflow.keras import backend as K\n",
    "from tensorflow.keras import layers, models\n",
    "import matplotlib.pyplot as plt\n",
    "import numpy as np\n",
    "import sklearn.model_selection as sk"
   ]
  },
  {
   "cell_type": "code",
   "execution_count": 2,
   "id": "b17fa6f3-4079-418d-a78d-2fb83eb860fa",
   "metadata": {},
   "outputs": [],
   "source": [
    "from keras import backend as K\n",
    "from keras import losses\n",
    "\n",
    "def OCC_loss(y_true, y_pred):\n",
    "    weights = K.cast(K.abs(K.argmax(y_true, axis=1) - K.argmax(y_pred, axis=1))/(K.int_shape(y_pred)[1] - 1), dtype='float32')\n",
    "    return (1.0 + weights) * losses.categorical_crossentropy(y_true, y_pred)"
   ]
  },
  {
   "cell_type": "code",
   "execution_count": 3,
   "id": "038fb724-59c4-4410-96e4-022c40d5626d",
   "metadata": {},
   "outputs": [],
   "source": [
    "def getNormed(this_array, this_min = 0, this_max = 255, set_to_int = True):\n",
    "    new_var = this_array.copy()\n",
    "    rat = (this_max - this_min)/(new_var.max() - new_var.min())\n",
    "    new_var = new_var * rat\n",
    "    new_var -= new_var.min()\n",
    "    new_var += this_min\n",
    "    if set_to_int:\n",
    "        return new_var.astype('uint8')\n",
    "    return new_var"
   ]
  },
  {
   "cell_type": "code",
   "execution_count": 4,
   "id": "c8d1e99f-dab5-4036-9b55-53c37fccdc4a",
   "metadata": {},
   "outputs": [
    {
     "name": "stdout",
     "output_type": "stream",
     "text": [
      "Get current working directory :  /Users/amalalmansour/Desktop/New_Images\n"
     ]
    }
   ],
   "source": [
    "import os\n",
    "print('Get current working directory : ', os.getcwd())"
   ]
  },
  {
   "cell_type": "code",
   "execution_count": 5,
   "id": "e33a9681-a478-476d-b364-ba23a90a7bc9",
   "metadata": {},
   "outputs": [
    {
     "data": {
      "text/plain": [
       "2687"
      ]
     },
     "execution_count": 5,
     "metadata": {},
     "output_type": "execute_result"
    }
   ],
   "source": [
    "Rad = pd.read_csv('/Users/amalalmansour/Desktop/New_Images/Malignancy/machine_ratings/Radiologists_ratings.csv')\n",
    "len(Rad)"
   ]
  },
  {
   "cell_type": "code",
   "execution_count": 6,
   "id": "68c3bb47-72e1-45aa-ae60-1b91b3368e73",
   "metadata": {},
   "outputs": [
    {
     "data": {
      "text/plain": [
       "1332"
      ]
     },
     "execution_count": 6,
     "metadata": {},
     "output_type": "execute_result"
    }
   ],
   "source": [
    "data = pd.read_csv('/Users/amalalmansour/Desktop/New_Images/Malignancy/Agreement_Binary_Rating.csv')\n",
    "len(data)"
   ]
  },
  {
   "cell_type": "code",
   "execution_count": 7,
   "id": "04e0f151-678a-429f-83d8-4c29aacb6cd5",
   "metadata": {},
   "outputs": [
    {
     "data": {
      "text/html": [
       "<div>\n",
       "<style scoped>\n",
       "    .dataframe tbody tr th:only-of-type {\n",
       "        vertical-align: middle;\n",
       "    }\n",
       "\n",
       "    .dataframe tbody tr th {\n",
       "        vertical-align: top;\n",
       "    }\n",
       "\n",
       "    .dataframe thead th {\n",
       "        text-align: right;\n",
       "    }\n",
       "</style>\n",
       "<table border=\"1\" class=\"dataframe\">\n",
       "  <thead>\n",
       "    <tr style=\"text-align: right;\">\n",
       "      <th></th>\n",
       "      <th>noduleID</th>\n",
       "      <th>InstanceID</th>\n",
       "      <th>Malignancy_1</th>\n",
       "      <th>Malignancy_2</th>\n",
       "      <th>Malignancy_3</th>\n",
       "      <th>Malignancy_4</th>\n",
       "    </tr>\n",
       "  </thead>\n",
       "  <tbody>\n",
       "    <tr>\n",
       "      <th>0</th>\n",
       "      <td>1</td>\n",
       "      <td>4</td>\n",
       "      <td>5</td>\n",
       "      <td>5</td>\n",
       "      <td>5</td>\n",
       "      <td>4</td>\n",
       "    </tr>\n",
       "    <tr>\n",
       "      <th>1</th>\n",
       "      <td>5</td>\n",
       "      <td>118</td>\n",
       "      <td>4</td>\n",
       "      <td>5</td>\n",
       "      <td>3</td>\n",
       "      <td>2</td>\n",
       "    </tr>\n",
       "    <tr>\n",
       "      <th>2</th>\n",
       "      <td>3</td>\n",
       "      <td>134</td>\n",
       "      <td>5</td>\n",
       "      <td>5</td>\n",
       "      <td>3</td>\n",
       "      <td>4</td>\n",
       "    </tr>\n",
       "    <tr>\n",
       "      <th>3</th>\n",
       "      <td>4</td>\n",
       "      <td>143</td>\n",
       "      <td>4</td>\n",
       "      <td>4</td>\n",
       "      <td>3</td>\n",
       "      <td>2</td>\n",
       "    </tr>\n",
       "    <tr>\n",
       "      <th>4</th>\n",
       "      <td>6</td>\n",
       "      <td>175</td>\n",
       "      <td>2</td>\n",
       "      <td>1</td>\n",
       "      <td>1</td>\n",
       "      <td>1</td>\n",
       "    </tr>\n",
       "    <tr>\n",
       "      <th>...</th>\n",
       "      <td>...</td>\n",
       "      <td>...</td>\n",
       "      <td>...</td>\n",
       "      <td>...</td>\n",
       "      <td>...</td>\n",
       "      <td>...</td>\n",
       "    </tr>\n",
       "    <tr>\n",
       "      <th>1327</th>\n",
       "      <td>2655</td>\n",
       "      <td>40771</td>\n",
       "      <td>0</td>\n",
       "      <td>2</td>\n",
       "      <td>3</td>\n",
       "      <td>2</td>\n",
       "    </tr>\n",
       "    <tr>\n",
       "      <th>1328</th>\n",
       "      <td>2657</td>\n",
       "      <td>40780</td>\n",
       "      <td>3</td>\n",
       "      <td>5</td>\n",
       "      <td>5</td>\n",
       "      <td>5</td>\n",
       "    </tr>\n",
       "    <tr>\n",
       "      <th>1329</th>\n",
       "      <td>2656</td>\n",
       "      <td>40794</td>\n",
       "      <td>2</td>\n",
       "      <td>5</td>\n",
       "      <td>5</td>\n",
       "      <td>5</td>\n",
       "    </tr>\n",
       "    <tr>\n",
       "      <th>1330</th>\n",
       "      <td>2658</td>\n",
       "      <td>40801</td>\n",
       "      <td>4</td>\n",
       "      <td>3</td>\n",
       "      <td>4</td>\n",
       "      <td>3</td>\n",
       "    </tr>\n",
       "    <tr>\n",
       "      <th>1331</th>\n",
       "      <td>2660</td>\n",
       "      <td>40860</td>\n",
       "      <td>2</td>\n",
       "      <td>2</td>\n",
       "      <td>2</td>\n",
       "      <td>2</td>\n",
       "    </tr>\n",
       "  </tbody>\n",
       "</table>\n",
       "<p>1332 rows × 6 columns</p>\n",
       "</div>"
      ],
      "text/plain": [
       "      noduleID  InstanceID  Malignancy_1  Malignancy_2  Malignancy_3  \\\n",
       "0            1           4             5             5             5   \n",
       "1            5         118             4             5             3   \n",
       "2            3         134             5             5             3   \n",
       "3            4         143             4             4             3   \n",
       "4            6         175             2             1             1   \n",
       "...        ...         ...           ...           ...           ...   \n",
       "1327      2655       40771             0             2             3   \n",
       "1328      2657       40780             3             5             5   \n",
       "1329      2656       40794             2             5             5   \n",
       "1330      2658       40801             4             3             4   \n",
       "1331      2660       40860             2             2             2   \n",
       "\n",
       "      Malignancy_4  \n",
       "0                4  \n",
       "1                2  \n",
       "2                4  \n",
       "3                2  \n",
       "4                1  \n",
       "...            ...  \n",
       "1327             2  \n",
       "1328             5  \n",
       "1329             5  \n",
       "1330             3  \n",
       "1331             2  \n",
       "\n",
       "[1332 rows x 6 columns]"
      ]
     },
     "metadata": {},
     "output_type": "display_data"
    }
   ],
   "source": [
    "df = pd.merge(data[['noduleID','InstanceID']], Rad)\n",
    "display(df)"
   ]
  },
  {
   "cell_type": "code",
   "execution_count": 8,
   "id": "d4ccaf42-ad9d-48c2-ad76-b2a4beb2e73e",
   "metadata": {},
   "outputs": [
    {
     "data": {
      "text/plain": [
       "\"\\ntest1 = pd.read_csv('/Users/amalalmansour/Desktop/New_Images/Malignancy/Agreement_Binary_Rating.csv')\\nprint(len(test1))\\ntest2 = pd.read_csv('/Users/amalalmansour/Desktop/New_Images/Malignancy/LIDC_Spiculation_IH.csv')\\nprint(len(test2))\\ndft = pd.merge(test2['noduleID'], test1['noduleID'])\\nprint(len(dft))\\n\""
      ]
     },
     "execution_count": 8,
     "metadata": {},
     "output_type": "execute_result"
    }
   ],
   "source": [
    "## Just To check how many four ratings we have in Spiculation##\n",
    "## four rating = 826, three rating 506, Total = 1332\n",
    "'''\n",
    "test1 = pd.read_csv('/Users/amalalmansour/Desktop/New_Images/Malignancy/Agreement_Binary_Rating.csv')\n",
    "print(len(test1))\n",
    "test2 = pd.read_csv('/Users/amalalmansour/Desktop/New_Images/Malignancy/LIDC_Spiculation_IH.csv')\n",
    "print(len(test2))\n",
    "dft = pd.merge(test2['noduleID'], test1['noduleID'])\n",
    "print(len(dft))\n",
    "'''"
   ]
  },
  {
   "cell_type": "code",
   "execution_count": 9,
   "id": "f32bb483-9a73-4c9d-8946-8190db42223e",
   "metadata": {},
   "outputs": [
    {
     "data": {
      "text/plain": [
       "3    398\n",
       "2    288\n",
       "4    193\n",
       "1    183\n",
       "5    144\n",
       "0    126\n",
       "Name: Malignancy_1, dtype: int64"
      ]
     },
     "execution_count": 9,
     "metadata": {},
     "output_type": "execute_result"
    }
   ],
   "source": [
    "df.Malignancy_1.value_counts()"
   ]
  },
  {
   "cell_type": "code",
   "execution_count": 10,
   "id": "12d924fa-bbf1-4ca1-b4ab-3ec80609620c",
   "metadata": {},
   "outputs": [
    {
     "data": {
      "text/plain": [
       "3    519\n",
       "4    213\n",
       "2    189\n",
       "1    175\n",
       "5    158\n",
       "0     78\n",
       "Name: Malignancy_2, dtype: int64"
      ]
     },
     "execution_count": 10,
     "metadata": {},
     "output_type": "execute_result"
    }
   ],
   "source": [
    "df.Malignancy_2.value_counts()"
   ]
  },
  {
   "cell_type": "code",
   "execution_count": 11,
   "id": "98ac776e-b9b2-4634-a567-6181cfbb400f",
   "metadata": {},
   "outputs": [
    {
     "data": {
      "text/plain": [
       "3    522\n",
       "4    219\n",
       "5    180\n",
       "1    163\n",
       "0    126\n",
       "2    122\n",
       "Name: Malignancy_3, dtype: int64"
      ]
     },
     "execution_count": 11,
     "metadata": {},
     "output_type": "execute_result"
    }
   ],
   "source": [
    "df.Malignancy_3.value_counts()"
   ]
  },
  {
   "cell_type": "code",
   "execution_count": 12,
   "id": "500c91d3-4fee-44c4-8c5e-29b49422464a",
   "metadata": {},
   "outputs": [
    {
     "data": {
      "text/plain": [
       "2    407\n",
       "3    329\n",
       "1    181\n",
       "0    176\n",
       "4    175\n",
       "5     64\n",
       "Name: Malignancy_4, dtype: int64"
      ]
     },
     "execution_count": 12,
     "metadata": {},
     "output_type": "execute_result"
    }
   ],
   "source": [
    "df.Malignancy_4.value_counts()"
   ]
  },
  {
   "cell_type": "code",
   "execution_count": 13,
   "id": "19bf2fbb-70ef-4963-92ed-362304a7a6c2",
   "metadata": {},
   "outputs": [
    {
     "name": "stdout",
     "output_type": "stream",
     "text": [
      "      noduleID  InstanceID  Malignancy_1  Malignancy_2  Malignancy_3  \\\n",
      "0            1           4             5             5             5   \n",
      "1            5         118             4             5             3   \n",
      "2            3         134             5             5             3   \n",
      "3            4         143             4             4             3   \n",
      "4            6         175             2             1             1   \n",
      "...        ...         ...           ...           ...           ...   \n",
      "1327      2655       40771             0             2             3   \n",
      "1328      2657       40780             3             5             5   \n",
      "1329      2656       40794             2             5             5   \n",
      "1330      2658       40801             4             3             4   \n",
      "1331      2660       40860             2             2             2   \n",
      "\n",
      "      Malignancy_4  \n",
      "0                4  \n",
      "1                2  \n",
      "2                4  \n",
      "3                2  \n",
      "4                1  \n",
      "...            ...  \n",
      "1327             2  \n",
      "1328             5  \n",
      "1329             5  \n",
      "1330             3  \n",
      "1331             2  \n",
      "\n",
      "[1156 rows x 6 columns]\n"
     ]
    }
   ],
   "source": [
    "train = df.loc[df[\"Malignancy_4\"] != 0 ]\n",
    "print(train)"
   ]
  },
  {
   "cell_type": "code",
   "execution_count": 14,
   "id": "086cea1d-c9c4-4f45-81dc-432d2388b1b2",
   "metadata": {},
   "outputs": [],
   "source": [
    "training_data = train.sample(frac=0.8)\n",
    "testing_data = train.drop(training_data.index)"
   ]
  },
  {
   "cell_type": "code",
   "execution_count": 15,
   "id": "e511f5f9-f0a8-4818-99b0-37a10c73301a",
   "metadata": {},
   "outputs": [],
   "source": [
    "#training_data.to_csv('/Users/amalalmansour/Desktop/New_Images/Spiculation/training_2class.csv')\n",
    "#testing_data.to_csv('/Users/amalalmansour/Desktop/New_Images/Spiculation/test_2class.csv')"
   ]
  },
  {
   "cell_type": "code",
   "execution_count": 16,
   "id": "f7cbed89-550f-489d-a845-adb576375f2c",
   "metadata": {},
   "outputs": [
    {
     "name": "stdout",
     "output_type": "stream",
     "text": [
      "training_data: 925\n",
      "testing_data: 231\n"
     ]
    }
   ],
   "source": [
    "print(\"training_data:\",len(training_data))\n",
    "print(\"testing_data:\",len(testing_data))"
   ]
  },
  {
   "cell_type": "code",
   "execution_count": 17,
   "id": "523362a7-1bbc-4a50-9486-d97dd98b8e80",
   "metadata": {},
   "outputs": [],
   "source": [
    "train_nodIds = np.array(training_data['noduleID'])\n",
    "test_nodIds = np.array(testing_data['noduleID'])"
   ]
  },
  {
   "cell_type": "code",
   "execution_count": 18,
   "id": "6448e80d-a9d9-4aa0-b625-c30ee4a1eb1d",
   "metadata": {},
   "outputs": [
    {
     "name": "stdout",
     "output_type": "stream",
     "text": [
      "/Users/amalalmansour/Desktop/images_1332\n",
      ".DS_Store\n",
      "Malignancy_2\n",
      "Malignancy_5\n",
      "Malignancy_4\n",
      "Malignancy_3\n",
      "Malignancy_1\n"
     ]
    }
   ],
   "source": [
    "# collect all images for training\n",
    "image_folder = '/Users/amalalmansour/Desktop/images_1332'\n",
    "train_images = []\n",
    "test_images = []\n",
    "all_images = []\n",
    "train_noduleId = []\n",
    "test_noduleId = []\n",
    "all_noduleId = []\n",
    "print(image_folder)\n",
    "file_lst = []\n",
    "for dir1 in os.listdir(image_folder):\n",
    "    print(dir1)\n",
    "    if not dir1.startswith('.'):\n",
    "        for file in os.listdir(os.path.join(image_folder, dir1)):\n",
    "            #print(file)\n",
    "            file_lst.append(file)\n",
    "            noduleID = file.split('.')[0]\n",
    "            if not file.startswith('.'):\n",
    "                noduleID = int(noduleID)\n",
    "                if noduleID in train_nodIds:\n",
    "                    train_noduleId.append(noduleID)\n",
    "                    temp_image = np.loadtxt(os.path.join(image_folder, dir1,file))\n",
    "                    temp_image = getNormed(temp_image)\n",
    "                    #enlarged_img = getSamePadding(temp_image)\n",
    "                    train_images.append(temp_image)\n",
    "                    all_noduleId.append(noduleID)\n",
    "                    all_images.append(temp_image)\n",
    "        \n",
    "                if noduleID in test_nodIds:\n",
    "                    test_noduleId.append(noduleID)\n",
    "                    temp_image = np.loadtxt(os.path.join(image_folder, dir1,file))\n",
    "                    temp_image = getNormed(temp_image)\n",
    "                    test_images.append(temp_image)\n",
    "                    all_noduleId.append(noduleID)\n",
    "                    all_images.append(temp_image)"
   ]
  },
  {
   "cell_type": "code",
   "execution_count": 19,
   "id": "fe8be2d6-fd7f-48d9-bc05-a4a67a914212",
   "metadata": {},
   "outputs": [
    {
     "name": "stdout",
     "output_type": "stream",
     "text": [
      "train_images: 925\n",
      "test_images: 231\n",
      "all_images: 1156\n"
     ]
    }
   ],
   "source": [
    "print(\"train_images:\",len(train_images))\n",
    "#print(\"val_images:\",len(val_images))\n",
    "print(\"test_images:\",len(test_images))\n",
    "print(\"all_images:\",len(all_images))"
   ]
  },
  {
   "cell_type": "code",
   "execution_count": 20,
   "id": "ad1017fd-279e-4066-940f-890ce05ce3da",
   "metadata": {},
   "outputs": [
    {
     "name": "stdout",
     "output_type": "stream",
     "text": [
      "     noduleID\n",
      "0        2412\n",
      "1        2374\n",
      "2         471\n",
      "3        1907\n",
      "4        1252\n",
      "..        ...\n",
      "920       440\n",
      "921       643\n",
      "922       904\n",
      "923      2594\n",
      "924      2219\n",
      "\n",
      "[925 rows x 1 columns]\n"
     ]
    }
   ],
   "source": [
    "tr_df = pd.DataFrame(train_noduleId,columns =['noduleID'])\n",
    "print(tr_df)"
   ]
  },
  {
   "cell_type": "code",
   "execution_count": 21,
   "id": "688c15a6-95ff-4bcf-9d0c-3beccfa9c184",
   "metadata": {},
   "outputs": [
    {
     "data": {
      "text/html": [
       "<div>\n",
       "<style scoped>\n",
       "    .dataframe tbody tr th:only-of-type {\n",
       "        vertical-align: middle;\n",
       "    }\n",
       "\n",
       "    .dataframe tbody tr th {\n",
       "        vertical-align: top;\n",
       "    }\n",
       "\n",
       "    .dataframe thead th {\n",
       "        text-align: right;\n",
       "    }\n",
       "</style>\n",
       "<table border=\"1\" class=\"dataframe\">\n",
       "  <thead>\n",
       "    <tr style=\"text-align: right;\">\n",
       "      <th></th>\n",
       "      <th>noduleID</th>\n",
       "      <th>InstanceID</th>\n",
       "      <th>Malignancy_1</th>\n",
       "      <th>Malignancy_2</th>\n",
       "      <th>Malignancy_3</th>\n",
       "      <th>Malignancy_4</th>\n",
       "    </tr>\n",
       "  </thead>\n",
       "  <tbody>\n",
       "    <tr>\n",
       "      <th>0</th>\n",
       "      <td>2412</td>\n",
       "      <td>36785</td>\n",
       "      <td>2</td>\n",
       "      <td>2</td>\n",
       "      <td>4</td>\n",
       "      <td>2</td>\n",
       "    </tr>\n",
       "    <tr>\n",
       "      <th>1</th>\n",
       "      <td>2374</td>\n",
       "      <td>36253</td>\n",
       "      <td>2</td>\n",
       "      <td>1</td>\n",
       "      <td>3</td>\n",
       "      <td>2</td>\n",
       "    </tr>\n",
       "    <tr>\n",
       "      <th>2</th>\n",
       "      <td>471</td>\n",
       "      <td>6853</td>\n",
       "      <td>2</td>\n",
       "      <td>3</td>\n",
       "      <td>4</td>\n",
       "      <td>2</td>\n",
       "    </tr>\n",
       "    <tr>\n",
       "      <th>3</th>\n",
       "      <td>1907</td>\n",
       "      <td>29039</td>\n",
       "      <td>2</td>\n",
       "      <td>1</td>\n",
       "      <td>4</td>\n",
       "      <td>2</td>\n",
       "    </tr>\n",
       "    <tr>\n",
       "      <th>4</th>\n",
       "      <td>1252</td>\n",
       "      <td>18823</td>\n",
       "      <td>3</td>\n",
       "      <td>2</td>\n",
       "      <td>4</td>\n",
       "      <td>2</td>\n",
       "    </tr>\n",
       "    <tr>\n",
       "      <th>...</th>\n",
       "      <td>...</td>\n",
       "      <td>...</td>\n",
       "      <td>...</td>\n",
       "      <td>...</td>\n",
       "      <td>...</td>\n",
       "      <td>...</td>\n",
       "    </tr>\n",
       "    <tr>\n",
       "      <th>920</th>\n",
       "      <td>440</td>\n",
       "      <td>6517</td>\n",
       "      <td>1</td>\n",
       "      <td>1</td>\n",
       "      <td>1</td>\n",
       "      <td>1</td>\n",
       "    </tr>\n",
       "    <tr>\n",
       "      <th>921</th>\n",
       "      <td>643</td>\n",
       "      <td>9251</td>\n",
       "      <td>1</td>\n",
       "      <td>1</td>\n",
       "      <td>1</td>\n",
       "      <td>1</td>\n",
       "    </tr>\n",
       "    <tr>\n",
       "      <th>922</th>\n",
       "      <td>904</td>\n",
       "      <td>13301</td>\n",
       "      <td>1</td>\n",
       "      <td>1</td>\n",
       "      <td>0</td>\n",
       "      <td>1</td>\n",
       "    </tr>\n",
       "    <tr>\n",
       "      <th>923</th>\n",
       "      <td>2594</td>\n",
       "      <td>39806</td>\n",
       "      <td>1</td>\n",
       "      <td>1</td>\n",
       "      <td>1</td>\n",
       "      <td>1</td>\n",
       "    </tr>\n",
       "    <tr>\n",
       "      <th>924</th>\n",
       "      <td>2219</td>\n",
       "      <td>33816</td>\n",
       "      <td>1</td>\n",
       "      <td>1</td>\n",
       "      <td>1</td>\n",
       "      <td>1</td>\n",
       "    </tr>\n",
       "  </tbody>\n",
       "</table>\n",
       "<p>925 rows × 6 columns</p>\n",
       "</div>"
      ],
      "text/plain": [
       "     noduleID  InstanceID  Malignancy_1  Malignancy_2  Malignancy_3  \\\n",
       "0        2412       36785             2             2             4   \n",
       "1        2374       36253             2             1             3   \n",
       "2         471        6853             2             3             4   \n",
       "3        1907       29039             2             1             4   \n",
       "4        1252       18823             3             2             4   \n",
       "..        ...         ...           ...           ...           ...   \n",
       "920       440        6517             1             1             1   \n",
       "921       643        9251             1             1             1   \n",
       "922       904       13301             1             1             0   \n",
       "923      2594       39806             1             1             1   \n",
       "924      2219       33816             1             1             1   \n",
       "\n",
       "     Malignancy_4  \n",
       "0               2  \n",
       "1               2  \n",
       "2               2  \n",
       "3               2  \n",
       "4               2  \n",
       "..            ...  \n",
       "920             1  \n",
       "921             1  \n",
       "922             1  \n",
       "923             1  \n",
       "924             1  \n",
       "\n",
       "[925 rows x 6 columns]"
      ]
     },
     "metadata": {},
     "output_type": "display_data"
    }
   ],
   "source": [
    "train_slices = pd.merge(tr_df, training_data)\n",
    "display(train_slices)"
   ]
  },
  {
   "cell_type": "code",
   "execution_count": 22,
   "id": "f0e4f3ba-6188-4ce6-aa68-505cb09e186e",
   "metadata": {},
   "outputs": [
    {
     "name": "stdout",
     "output_type": "stream",
     "text": [
      "     noduleID\n",
      "0        1084\n",
      "1        2564\n",
      "2         933\n",
      "3        1097\n",
      "4        1718\n",
      "..        ...\n",
      "226      1698\n",
      "227      2346\n",
      "228       126\n",
      "229       657\n",
      "230      2609\n",
      "\n",
      "[231 rows x 1 columns]\n"
     ]
    }
   ],
   "source": [
    "te_df = pd.DataFrame(test_noduleId,columns =['noduleID'])\n",
    "print(te_df)"
   ]
  },
  {
   "cell_type": "code",
   "execution_count": 23,
   "id": "040f18a7-9eb4-466c-843a-9c3f42abda21",
   "metadata": {},
   "outputs": [
    {
     "data": {
      "text/html": [
       "<div>\n",
       "<style scoped>\n",
       "    .dataframe tbody tr th:only-of-type {\n",
       "        vertical-align: middle;\n",
       "    }\n",
       "\n",
       "    .dataframe tbody tr th {\n",
       "        vertical-align: top;\n",
       "    }\n",
       "\n",
       "    .dataframe thead th {\n",
       "        text-align: right;\n",
       "    }\n",
       "</style>\n",
       "<table border=\"1\" class=\"dataframe\">\n",
       "  <thead>\n",
       "    <tr style=\"text-align: right;\">\n",
       "      <th></th>\n",
       "      <th>noduleID</th>\n",
       "      <th>InstanceID</th>\n",
       "      <th>Malignancy_1</th>\n",
       "      <th>Malignancy_2</th>\n",
       "      <th>Malignancy_3</th>\n",
       "      <th>Malignancy_4</th>\n",
       "    </tr>\n",
       "  </thead>\n",
       "  <tbody>\n",
       "    <tr>\n",
       "      <th>0</th>\n",
       "      <td>1084</td>\n",
       "      <td>15915</td>\n",
       "      <td>2</td>\n",
       "      <td>3</td>\n",
       "      <td>0</td>\n",
       "      <td>2</td>\n",
       "    </tr>\n",
       "    <tr>\n",
       "      <th>1</th>\n",
       "      <td>2564</td>\n",
       "      <td>39328</td>\n",
       "      <td>2</td>\n",
       "      <td>2</td>\n",
       "      <td>4</td>\n",
       "      <td>2</td>\n",
       "    </tr>\n",
       "    <tr>\n",
       "      <th>2</th>\n",
       "      <td>933</td>\n",
       "      <td>13642</td>\n",
       "      <td>2</td>\n",
       "      <td>0</td>\n",
       "      <td>3</td>\n",
       "      <td>2</td>\n",
       "    </tr>\n",
       "    <tr>\n",
       "      <th>3</th>\n",
       "      <td>1097</td>\n",
       "      <td>16112</td>\n",
       "      <td>4</td>\n",
       "      <td>2</td>\n",
       "      <td>0</td>\n",
       "      <td>2</td>\n",
       "    </tr>\n",
       "    <tr>\n",
       "      <th>4</th>\n",
       "      <td>1718</td>\n",
       "      <td>25766</td>\n",
       "      <td>2</td>\n",
       "      <td>1</td>\n",
       "      <td>3</td>\n",
       "      <td>2</td>\n",
       "    </tr>\n",
       "    <tr>\n",
       "      <th>...</th>\n",
       "      <td>...</td>\n",
       "      <td>...</td>\n",
       "      <td>...</td>\n",
       "      <td>...</td>\n",
       "      <td>...</td>\n",
       "      <td>...</td>\n",
       "    </tr>\n",
       "    <tr>\n",
       "      <th>226</th>\n",
       "      <td>1698</td>\n",
       "      <td>25416</td>\n",
       "      <td>1</td>\n",
       "      <td>1</td>\n",
       "      <td>1</td>\n",
       "      <td>1</td>\n",
       "    </tr>\n",
       "    <tr>\n",
       "      <th>227</th>\n",
       "      <td>2346</td>\n",
       "      <td>35817</td>\n",
       "      <td>4</td>\n",
       "      <td>1</td>\n",
       "      <td>1</td>\n",
       "      <td>1</td>\n",
       "    </tr>\n",
       "    <tr>\n",
       "      <th>228</th>\n",
       "      <td>126</td>\n",
       "      <td>1568</td>\n",
       "      <td>3</td>\n",
       "      <td>1</td>\n",
       "      <td>1</td>\n",
       "      <td>1</td>\n",
       "    </tr>\n",
       "    <tr>\n",
       "      <th>229</th>\n",
       "      <td>657</td>\n",
       "      <td>9498</td>\n",
       "      <td>2</td>\n",
       "      <td>1</td>\n",
       "      <td>3</td>\n",
       "      <td>1</td>\n",
       "    </tr>\n",
       "    <tr>\n",
       "      <th>230</th>\n",
       "      <td>2609</td>\n",
       "      <td>39936</td>\n",
       "      <td>1</td>\n",
       "      <td>1</td>\n",
       "      <td>1</td>\n",
       "      <td>1</td>\n",
       "    </tr>\n",
       "  </tbody>\n",
       "</table>\n",
       "<p>231 rows × 6 columns</p>\n",
       "</div>"
      ],
      "text/plain": [
       "     noduleID  InstanceID  Malignancy_1  Malignancy_2  Malignancy_3  \\\n",
       "0        1084       15915             2             3             0   \n",
       "1        2564       39328             2             2             4   \n",
       "2         933       13642             2             0             3   \n",
       "3        1097       16112             4             2             0   \n",
       "4        1718       25766             2             1             3   \n",
       "..        ...         ...           ...           ...           ...   \n",
       "226      1698       25416             1             1             1   \n",
       "227      2346       35817             4             1             1   \n",
       "228       126        1568             3             1             1   \n",
       "229       657        9498             2             1             3   \n",
       "230      2609       39936             1             1             1   \n",
       "\n",
       "     Malignancy_4  \n",
       "0               2  \n",
       "1               2  \n",
       "2               2  \n",
       "3               2  \n",
       "4               2  \n",
       "..            ...  \n",
       "226             1  \n",
       "227             1  \n",
       "228             1  \n",
       "229             1  \n",
       "230             1  \n",
       "\n",
       "[231 rows x 6 columns]"
      ]
     },
     "metadata": {},
     "output_type": "display_data"
    }
   ],
   "source": [
    "test_slices = pd.merge(te_df, testing_data)\n",
    "display(test_slices)"
   ]
  },
  {
   "cell_type": "code",
   "execution_count": 24,
   "id": "2f6e9bf1-30cd-4897-b82b-062c34e2d5d1",
   "metadata": {},
   "outputs": [
    {
     "data": {
      "text/plain": [
       "2    89\n",
       "3    56\n",
       "1    39\n",
       "4    30\n",
       "5    17\n",
       "Name: Malignancy_4, dtype: int64"
      ]
     },
     "execution_count": 24,
     "metadata": {},
     "output_type": "execute_result"
    }
   ],
   "source": [
    "test_slices.Malignancy_4.value_counts()"
   ]
  },
  {
   "cell_type": "code",
   "execution_count": 25,
   "id": "0688d8a4-4827-410b-9865-916a4a8ef523",
   "metadata": {},
   "outputs": [],
   "source": [
    "x_train, x_val, y_train, y_val = sk.train_test_split(train_images,train_slices['Malignancy_4'],test_size=0.2, shuffle=True)"
   ]
  },
  {
   "cell_type": "code",
   "execution_count": 26,
   "id": "b650732d-c14b-4eaa-a0a7-2bc748ba2790",
   "metadata": {},
   "outputs": [],
   "source": [
    "x_test = test_images\n",
    "y_test = test_slices['Malignancy_4']"
   ]
  },
  {
   "cell_type": "code",
   "execution_count": 27,
   "id": "2acef946-7bd0-48fd-8a24-f07c3da6f9c7",
   "metadata": {},
   "outputs": [
    {
     "data": {
      "text/plain": [
       "2    253\n",
       "3    221\n",
       "4    115\n",
       "1    112\n",
       "5     39\n",
       "Name: Malignancy_4, dtype: int64"
      ]
     },
     "execution_count": 27,
     "metadata": {},
     "output_type": "execute_result"
    }
   ],
   "source": [
    "y_train.value_counts()"
   ]
  },
  {
   "cell_type": "code",
   "execution_count": 28,
   "id": "010d725a-3799-4892-aec8-25ea6f4f6e3e",
   "metadata": {},
   "outputs": [
    {
     "data": {
      "text/plain": [
       "2    65\n",
       "3    52\n",
       "1    30\n",
       "4    30\n",
       "5     8\n",
       "Name: Malignancy_4, dtype: int64"
      ]
     },
     "execution_count": 28,
     "metadata": {},
     "output_type": "execute_result"
    }
   ],
   "source": [
    "y_val.value_counts()"
   ]
  },
  {
   "cell_type": "code",
   "execution_count": 29,
   "id": "96570bc0-71cc-4ab4-92a4-440f2c83e081",
   "metadata": {},
   "outputs": [
    {
     "data": {
      "text/plain": [
       "2    89\n",
       "3    56\n",
       "1    39\n",
       "4    30\n",
       "5    17\n",
       "Name: Malignancy_4, dtype: int64"
      ]
     },
     "execution_count": 29,
     "metadata": {},
     "output_type": "execute_result"
    }
   ],
   "source": [
    "y_test.value_counts()"
   ]
  },
  {
   "cell_type": "code",
   "execution_count": 30,
   "id": "a2fa8b7d-ca33-4e23-a593-f56b646241eb",
   "metadata": {
    "tags": []
   },
   "outputs": [
    {
     "name": "stdout",
     "output_type": "stream",
     "text": [
      "740\n",
      "185\n",
      "231\n"
     ]
    }
   ],
   "source": [
    "train_images = np.array(x_train)\n",
    "print(len(train_images))\n",
    "val_images = np.array(x_val)\n",
    "print(len(val_images))\n",
    "test_images = np.array(x_test)\n",
    "print(len(test_images))"
   ]
  },
  {
   "cell_type": "code",
   "execution_count": 31,
   "id": "a754d893",
   "metadata": {},
   "outputs": [],
   "source": [
    "# Reshape the data so the pixel vectors turn into arrays, and so the instance id's are also arrays\n",
    "train_data = train_images.reshape(train_images.shape[0],71,71,1)  \n",
    "#train_ids = np.array(y_train)\n",
    "val_data = val_images.reshape(val_images.shape[0],71,71,1)  \n",
    "#val_ids = np.array(y_val)\n",
    "test_data = test_images.reshape(test_images.shape[0], 71, 71,1)\n",
    "#test_ids = np.array(y_test)"
   ]
  },
  {
   "cell_type": "code",
   "execution_count": 32,
   "id": "585d54fa-2afc-436a-b45f-5218fa0ff0d7",
   "metadata": {},
   "outputs": [],
   "source": [
    "train_ids = [int(numeric_string) for numeric_string in y_train]\n",
    "val_ids = [int(numeric_string) for numeric_string in y_val]\n",
    "test_ids = [int(numeric_string) for numeric_string in y_test]"
   ]
  },
  {
   "cell_type": "code",
   "execution_count": 33,
   "id": "12538a3d-995c-490f-ab2c-21d0152bbdce",
   "metadata": {},
   "outputs": [
    {
     "data": {
      "text/plain": [
       "'\\ntrain_ids = [int(numeric_string) for numeric_string in train_ids]\\ntrain_ids = np.array(train_ids)\\nval_ids = [int(numeric_string) for numeric_string in val_ids]\\nval_ids = np.array(val_ids)\\ntest_ids = [int(numeric_string) for numeric_string in test_ids]\\ntest_ids = np.array(test_ids)\\n'"
      ]
     },
     "execution_count": 33,
     "metadata": {},
     "output_type": "execute_result"
    }
   ],
   "source": [
    "'''\n",
    "train_ids = [int(numeric_string) for numeric_string in train_ids]\n",
    "train_ids = np.array(train_ids)\n",
    "val_ids = [int(numeric_string) for numeric_string in val_ids]\n",
    "val_ids = np.array(val_ids)\n",
    "test_ids = [int(numeric_string) for numeric_string in test_ids]\n",
    "test_ids = np.array(test_ids)\n",
    "'''"
   ]
  },
  {
   "cell_type": "code",
   "execution_count": 34,
   "id": "4f90cf6a-ad50-45d1-bb89-9d0b5d25cb0d",
   "metadata": {},
   "outputs": [
    {
     "data": {
      "text/plain": [
       "185"
      ]
     },
     "execution_count": 34,
     "metadata": {},
     "output_type": "execute_result"
    }
   ],
   "source": [
    "len(val_ids)"
   ]
  },
  {
   "cell_type": "code",
   "execution_count": 35,
   "id": "d40bd092-5493-45db-8f77-341d88bc9554",
   "metadata": {},
   "outputs": [],
   "source": [
    "train_ids = keras.utils.to_categorical(train_ids, num_classes=6)\n",
    "val_ids = keras.utils.to_categorical(val_ids, num_classes=6)\n",
    "test_ids = keras.utils.to_categorical(test_ids, num_classes=6)\n",
    "train_ids = train_ids[:,1:]\n",
    "val_ids = val_ids[:,1:]\n",
    "test_ids = test_ids[:,1:]"
   ]
  },
  {
   "cell_type": "code",
   "execution_count": 36,
   "id": "9154c7f8-7793-4cd2-978e-03dc4e1b80d3",
   "metadata": {},
   "outputs": [
    {
     "name": "stdout",
     "output_type": "stream",
     "text": [
      "[[0. 0. 1. 0. 0.]\n",
      " [0. 1. 0. 0. 0.]\n",
      " [0. 1. 0. 0. 0.]\n",
      " ...\n",
      " [1. 0. 0. 0. 0.]\n",
      " [0. 0. 1. 0. 0.]\n",
      " [0. 0. 1. 0. 0.]]\n"
     ]
    }
   ],
   "source": [
    "print(train_ids)"
   ]
  },
  {
   "cell_type": "code",
   "execution_count": 37,
   "id": "59e2887a",
   "metadata": {},
   "outputs": [],
   "source": [
    "model = models.Sequential()\n",
    "model.add(layers.Conv2D(32, (3, 3), activation='relu', input_shape=(71, 71, 1)))\n",
    "model.add(layers.MaxPooling2D((2, 2)))\n",
    "model.add(layers.Conv2D(64, (3, 3), activation='relu'))\n",
    "#model.add(layers.MaxPooling2D((2, 2)))\n",
    "#model.add(layers.Conv2D(64, (3, 3), activation='relu'))"
   ]
  },
  {
   "cell_type": "code",
   "execution_count": 38,
   "id": "34870c33",
   "metadata": {},
   "outputs": [
    {
     "name": "stdout",
     "output_type": "stream",
     "text": [
      "Model: \"sequential\"\n",
      "_________________________________________________________________\n",
      " Layer (type)                Output Shape              Param #   \n",
      "=================================================================\n",
      " conv2d (Conv2D)             (None, 69, 69, 32)        320       \n",
      "                                                                 \n",
      " max_pooling2d (MaxPooling2D  (None, 34, 34, 32)       0         \n",
      " )                                                               \n",
      "                                                                 \n",
      " conv2d_1 (Conv2D)           (None, 32, 32, 64)        18496     \n",
      "                                                                 \n",
      "=================================================================\n",
      "Total params: 18,816\n",
      "Trainable params: 18,816\n",
      "Non-trainable params: 0\n",
      "_________________________________________________________________\n"
     ]
    }
   ],
   "source": [
    "model.summary()"
   ]
  },
  {
   "cell_type": "code",
   "execution_count": 39,
   "id": "a4d39e57-e35a-4757-9991-e9a31e4e8a6b",
   "metadata": {},
   "outputs": [
    {
     "data": {
      "text/plain": [
       "(None, 65536)"
      ]
     },
     "execution_count": 39,
     "metadata": {},
     "output_type": "execute_result"
    }
   ],
   "source": [
    "model.add(layers.Flatten())\n",
    "model.output_shape"
   ]
  },
  {
   "cell_type": "code",
   "execution_count": 40,
   "id": "3cb7e54d",
   "metadata": {},
   "outputs": [],
   "source": [
    "model.add(layers.Dense(5,activation='softmax'))"
   ]
  },
  {
   "cell_type": "code",
   "execution_count": 41,
   "id": "ded38996",
   "metadata": {},
   "outputs": [
    {
     "name": "stdout",
     "output_type": "stream",
     "text": [
      "Model: \"sequential\"\n",
      "_________________________________________________________________\n",
      " Layer (type)                Output Shape              Param #   \n",
      "=================================================================\n",
      " conv2d (Conv2D)             (None, 69, 69, 32)        320       \n",
      "                                                                 \n",
      " max_pooling2d (MaxPooling2D  (None, 34, 34, 32)       0         \n",
      " )                                                               \n",
      "                                                                 \n",
      " conv2d_1 (Conv2D)           (None, 32, 32, 64)        18496     \n",
      "                                                                 \n",
      " flatten (Flatten)           (None, 65536)             0         \n",
      "                                                                 \n",
      " dense (Dense)               (None, 5)                 327685    \n",
      "                                                                 \n",
      "=================================================================\n",
      "Total params: 346,501\n",
      "Trainable params: 346,501\n",
      "Non-trainable params: 0\n",
      "_________________________________________________________________\n"
     ]
    }
   ],
   "source": [
    "model.summary()"
   ]
  },
  {
   "cell_type": "code",
   "execution_count": 42,
   "id": "f06e2f2f-be75-4aff-acf8-c2c35031d44c",
   "metadata": {},
   "outputs": [],
   "source": [
    "class EvaluateEpochEnd(tf.keras.callbacks.Callback):\n",
    "    \n",
    "    def __init__(self, test_data):\n",
    "        self.test_data = test_data\n",
    "        self.acc_scores_lst = []\n",
    "        self.loss_scores_lst = []\n",
    "\n",
    "    def on_epoch_end(self, epoch, logs={}):\n",
    "        x, y = self.test_data\n",
    "        scores = self.model.evaluate(x, y, verbose=False)\n",
    "        print('\\nTesting loss: {}, accuracy: {}\\n'.format(scores[0], scores[1]))\n",
    "        self.acc_scores_lst.append(scores[1])\n",
    "        self.loss_scores_lst.append(scores[0])"
   ]
  },
  {
   "cell_type": "code",
   "execution_count": 43,
   "id": "e0671e86",
   "metadata": {},
   "outputs": [
    {
     "name": "stdout",
     "output_type": "stream",
     "text": [
      "Epoch 1/50\n",
      "22/24 [==========================>...] - ETA: 0s - loss: 48.6498 - accuracy: 0.2812\n",
      "Testing loss: 1.9101203680038452, accuracy: 0.3549783527851105\n",
      "\n",
      "24/24 [==============================] - 1s 25ms/step - loss: 46.3794 - accuracy: 0.2838 - val_loss: 1.9458 - val_accuracy: 0.3459\n",
      "Epoch 2/50\n",
      "24/24 [==============================] - ETA: 0s - loss: 1.3316 - accuracy: 0.5851\n",
      "Testing loss: 2.0976784229278564, accuracy: 0.3722943663597107\n",
      "\n",
      "24/24 [==============================] - 0s 19ms/step - loss: 1.3316 - accuracy: 0.5851 - val_loss: 1.8949 - val_accuracy: 0.4054\n",
      "Epoch 3/50\n",
      "24/24 [==============================] - ETA: 0s - loss: 0.5543 - accuracy: 0.8459\n",
      "Testing loss: 2.7773635387420654, accuracy: 0.43290042877197266\n",
      "\n",
      "24/24 [==============================] - 1s 21ms/step - loss: 0.5543 - accuracy: 0.8459 - val_loss: 2.5249 - val_accuracy: 0.3838\n",
      "Epoch 4/50\n",
      "21/24 [=========================>....] - ETA: 0s - loss: 0.2069 - accuracy: 0.9539\n",
      "Testing loss: 3.30430006980896, accuracy: 0.3982684016227722\n",
      "\n",
      "24/24 [==============================] - 0s 20ms/step - loss: 0.2026 - accuracy: 0.9541 - val_loss: 2.9909 - val_accuracy: 0.4216\n",
      "Epoch 5/50\n",
      "20/24 [========================>.....] - ETA: 0s - loss: 0.0686 - accuracy: 0.9891\n",
      "Testing loss: 3.9468917846679688, accuracy: 0.411255419254303\n",
      "\n",
      "24/24 [==============================] - 1s 21ms/step - loss: 0.0705 - accuracy: 0.9878 - val_loss: 3.3723 - val_accuracy: 0.4162\n",
      "Epoch 6/50\n",
      "24/24 [==============================] - ETA: 0s - loss: 0.0328 - accuracy: 0.9959\n",
      "Testing loss: 4.321826934814453, accuracy: 0.36796537041664124\n",
      "\n",
      "24/24 [==============================] - 0s 20ms/step - loss: 0.0328 - accuracy: 0.9959 - val_loss: 3.5902 - val_accuracy: 0.4054\n",
      "Epoch 7/50\n",
      "22/24 [==========================>...] - ETA: 0s - loss: 0.0200 - accuracy: 0.9986\n",
      "Testing loss: 4.816437721252441, accuracy: 0.411255419254303\n",
      "\n",
      "24/24 [==============================] - 0s 20ms/step - loss: 0.0195 - accuracy: 0.9986 - val_loss: 4.2339 - val_accuracy: 0.4000\n",
      "Epoch 8/50\n",
      "21/24 [=========================>....] - ETA: 0s - loss: 0.0109 - accuracy: 0.9985\n",
      "Testing loss: 4.907376289367676, accuracy: 0.3896103799343109\n",
      "\n",
      "24/24 [==============================] - 1s 21ms/step - loss: 0.0106 - accuracy: 0.9986 - val_loss: 4.3003 - val_accuracy: 0.3946\n",
      "Epoch 9/50\n",
      "22/24 [==========================>...] - ETA: 0s - loss: 0.0073 - accuracy: 1.0000\n",
      "Testing loss: 5.215736389160156, accuracy: 0.38528138399124146\n",
      "\n",
      "24/24 [==============================] - 0s 20ms/step - loss: 0.0073 - accuracy: 1.0000 - val_loss: 4.6291 - val_accuracy: 0.3892\n",
      "Epoch 10/50\n",
      "21/24 [=========================>....] - ETA: 0s - loss: 0.0049 - accuracy: 1.0000\n",
      "Testing loss: 5.617003917694092, accuracy: 0.3896103799343109\n",
      "\n",
      "24/24 [==============================] - 0s 19ms/step - loss: 0.0047 - accuracy: 1.0000 - val_loss: 4.7635 - val_accuracy: 0.3730\n",
      "Epoch 11/50\n",
      "22/24 [==========================>...] - ETA: 0s - loss: 0.0039 - accuracy: 1.0000\n",
      "Testing loss: 5.768218994140625, accuracy: 0.3982684016227722\n",
      "\n",
      "24/24 [==============================] - 0s 20ms/step - loss: 0.0039 - accuracy: 1.0000 - val_loss: 4.9479 - val_accuracy: 0.3946\n",
      "Epoch 12/50\n",
      "22/24 [==========================>...] - ETA: 0s - loss: 0.0036 - accuracy: 1.0000\n",
      "Testing loss: 5.9350104331970215, accuracy: 0.3982684016227722\n",
      "\n",
      "24/24 [==============================] - 0s 19ms/step - loss: 0.0035 - accuracy: 1.0000 - val_loss: 5.0496 - val_accuracy: 0.3784\n",
      "Epoch 13/50\n",
      "21/24 [=========================>....] - ETA: 0s - loss: 0.0033 - accuracy: 1.0000\n",
      "Testing loss: 6.037565231323242, accuracy: 0.3896103799343109\n",
      "\n",
      "24/24 [==============================] - 0s 20ms/step - loss: 0.0032 - accuracy: 1.0000 - val_loss: 5.1583 - val_accuracy: 0.3892\n",
      "Epoch 14/50\n",
      "24/24 [==============================] - ETA: 0s - loss: 0.0030 - accuracy: 1.0000\n",
      "Testing loss: 6.153265476226807, accuracy: 0.39393940567970276\n",
      "\n",
      "24/24 [==============================] - 0s 19ms/step - loss: 0.0030 - accuracy: 1.0000 - val_loss: 5.3663 - val_accuracy: 0.3946\n",
      "Epoch 15/50\n",
      "23/24 [===========================>..] - ETA: 0s - loss: 0.0027 - accuracy: 1.0000  \n",
      "Testing loss: 6.234916687011719, accuracy: 0.3896103799343109\n",
      "\n",
      "24/24 [==============================] - 0s 20ms/step - loss: 0.0027 - accuracy: 1.0000 - val_loss: 5.4171 - val_accuracy: 0.3784\n",
      "Epoch 16/50\n",
      "21/24 [=========================>....] - ETA: 0s - loss: 7.5321e-04 - accuracy: 1.0000\n",
      "Testing loss: 6.332553386688232, accuracy: 0.3982684016227722\n",
      "\n",
      "24/24 [==============================] - 0s 19ms/step - loss: 0.0024 - accuracy: 1.0000 - val_loss: 5.5450 - val_accuracy: 0.3946\n",
      "Epoch 17/50\n",
      "24/24 [==============================] - ETA: 0s - loss: 0.0037 - accuracy: 1.0000\n",
      "Testing loss: 6.093628406524658, accuracy: 0.39393940567970276\n",
      "\n",
      "24/24 [==============================] - 0s 19ms/step - loss: 0.0037 - accuracy: 1.0000 - val_loss: 5.1739 - val_accuracy: 0.3784\n",
      "Epoch 18/50\n",
      "22/24 [==========================>...] - ETA: 0s - loss: 0.0015 - accuracy: 1.0000\n",
      "Testing loss: 6.235073566436768, accuracy: 0.39393940567970276\n",
      "\n",
      "24/24 [==============================] - 0s 19ms/step - loss: 0.0036 - accuracy: 1.0000 - val_loss: 5.4757 - val_accuracy: 0.3784\n",
      "Epoch 19/50\n",
      "24/24 [==============================] - ETA: 0s - loss: 0.0023 - accuracy: 1.0000\n",
      "Testing loss: 6.864686012268066, accuracy: 0.3636363744735718\n",
      "\n",
      "24/24 [==============================] - 0s 20ms/step - loss: 0.0023 - accuracy: 1.0000 - val_loss: 5.9492 - val_accuracy: 0.3676\n",
      "Epoch 20/50\n",
      "24/24 [==============================] - ETA: 0s - loss: 9.5979e-04 - accuracy: 1.0000\n",
      "Testing loss: 7.0085296630859375, accuracy: 0.38528138399124146\n",
      "\n",
      "24/24 [==============================] - 1s 22ms/step - loss: 9.5979e-04 - accuracy: 1.0000 - val_loss: 6.0490 - val_accuracy: 0.3946\n",
      "Epoch 21/50\n",
      "23/24 [===========================>..] - ETA: 0s - loss: 4.5147e-04 - accuracy: 1.0000\n",
      "Testing loss: 7.0047526359558105, accuracy: 0.380952388048172\n",
      "\n",
      "24/24 [==============================] - 0s 20ms/step - loss: 4.5164e-04 - accuracy: 1.0000 - val_loss: 6.1085 - val_accuracy: 0.3838\n",
      "Epoch 22/50\n",
      "22/24 [==========================>...] - ETA: 0s - loss: 3.0081e-04 - accuracy: 1.0000\n",
      "Testing loss: 7.174213886260986, accuracy: 0.37662336230278015\n",
      "\n",
      "24/24 [==============================] - 1s 21ms/step - loss: 3.1028e-04 - accuracy: 1.0000 - val_loss: 6.2776 - val_accuracy: 0.3838\n",
      "Epoch 23/50\n",
      "24/24 [==============================] - ETA: 0s - loss: 2.4058e-04 - accuracy: 1.0000\n",
      "Testing loss: 7.261777400970459, accuracy: 0.37662336230278015\n",
      "\n",
      "24/24 [==============================] - 1s 21ms/step - loss: 2.4058e-04 - accuracy: 1.0000 - val_loss: 6.3246 - val_accuracy: 0.3676\n",
      "Epoch 24/50\n",
      "23/24 [===========================>..] - ETA: 0s - loss: 1.9420e-04 - accuracy: 1.0000\n",
      "Testing loss: 7.339799880981445, accuracy: 0.37662336230278015\n",
      "\n",
      "24/24 [==============================] - 0s 19ms/step - loss: 1.9323e-04 - accuracy: 1.0000 - val_loss: 6.3854 - val_accuracy: 0.3730\n",
      "Epoch 25/50\n",
      "24/24 [==============================] - ETA: 0s - loss: 1.6781e-04 - accuracy: 1.0000\n",
      "Testing loss: 7.415245056152344, accuracy: 0.38528138399124146\n",
      "\n",
      "24/24 [==============================] - 1s 21ms/step - loss: 1.6781e-04 - accuracy: 1.0000 - val_loss: 6.4165 - val_accuracy: 0.3730\n",
      "Epoch 26/50\n",
      "24/24 [==============================] - ETA: 0s - loss: 1.4683e-04 - accuracy: 1.0000\n",
      "Testing loss: 7.460093975067139, accuracy: 0.38528138399124146\n",
      "\n",
      "24/24 [==============================] - 0s 20ms/step - loss: 1.4683e-04 - accuracy: 1.0000 - val_loss: 6.4739 - val_accuracy: 0.3676\n",
      "Epoch 27/50\n",
      "24/24 [==============================] - ETA: 0s - loss: 1.3021e-04 - accuracy: 1.0000\n",
      "Testing loss: 7.529991149902344, accuracy: 0.38528138399124146\n",
      "\n",
      "24/24 [==============================] - 1s 21ms/step - loss: 1.3021e-04 - accuracy: 1.0000 - val_loss: 6.4887 - val_accuracy: 0.3892\n",
      "Epoch 28/50\n",
      "21/24 [=========================>....] - ETA: 0s - loss: 1.1425e-04 - accuracy: 1.0000\n",
      "Testing loss: 7.5697221755981445, accuracy: 0.3896103799343109\n",
      "\n",
      "24/24 [==============================] - 0s 21ms/step - loss: 1.1857e-04 - accuracy: 1.0000 - val_loss: 6.5089 - val_accuracy: 0.3892\n",
      "Epoch 29/50\n",
      "21/24 [=========================>....] - ETA: 0s - loss: 1.0747e-04 - accuracy: 1.0000\n",
      "Testing loss: 7.612086772918701, accuracy: 0.3982684016227722\n",
      "\n",
      "24/24 [==============================] - 1s 21ms/step - loss: 1.0743e-04 - accuracy: 1.0000 - val_loss: 6.5562 - val_accuracy: 0.3784\n",
      "Epoch 30/50\n",
      "24/24 [==============================] - ETA: 0s - loss: 9.8251e-05 - accuracy: 1.0000\n",
      "Testing loss: 7.646455764770508, accuracy: 0.39393940567970276\n",
      "\n",
      "24/24 [==============================] - 0s 21ms/step - loss: 9.8251e-05 - accuracy: 1.0000 - val_loss: 6.5953 - val_accuracy: 0.3838\n",
      "Epoch 31/50\n",
      "24/24 [==============================] - ETA: 0s - loss: 9.1125e-05 - accuracy: 1.0000\n",
      "Testing loss: 7.672616958618164, accuracy: 0.3982684016227722\n",
      "\n",
      "24/24 [==============================] - 0s 20ms/step - loss: 9.1125e-05 - accuracy: 1.0000 - val_loss: 6.6359 - val_accuracy: 0.3838\n",
      "Epoch 32/50\n",
      "24/24 [==============================] - ETA: 0s - loss: 8.2707e-05 - accuracy: 1.0000\n",
      "Testing loss: 7.723482131958008, accuracy: 0.3982684016227722\n",
      "\n",
      "24/24 [==============================] - 1s 21ms/step - loss: 8.2707e-05 - accuracy: 1.0000 - val_loss: 6.7034 - val_accuracy: 0.4000\n",
      "Epoch 33/50\n",
      "24/24 [==============================] - ETA: 0s - loss: 7.6861e-05 - accuracy: 1.0000\n",
      "Testing loss: 7.774313449859619, accuracy: 0.39393940567970276\n",
      "\n",
      "24/24 [==============================] - 0s 21ms/step - loss: 7.6861e-05 - accuracy: 1.0000 - val_loss: 6.7379 - val_accuracy: 0.4000\n",
      "Epoch 34/50\n",
      "23/24 [===========================>..] - ETA: 0s - loss: 6.9424e-05 - accuracy: 1.0000\n",
      "Testing loss: 7.798714637756348, accuracy: 0.3982684016227722\n",
      "\n",
      "24/24 [==============================] - 1s 21ms/step - loss: 6.9767e-05 - accuracy: 1.0000 - val_loss: 6.7848 - val_accuracy: 0.3946\n",
      "Epoch 35/50\n",
      "24/24 [==============================] - ETA: 0s - loss: 6.5110e-05 - accuracy: 1.0000\n",
      "Testing loss: 7.827915191650391, accuracy: 0.3982684016227722\n",
      "\n",
      "24/24 [==============================] - 0s 21ms/step - loss: 6.5110e-05 - accuracy: 1.0000 - val_loss: 6.8236 - val_accuracy: 0.4108\n",
      "Epoch 36/50\n",
      "21/24 [=========================>....] - ETA: 0s - loss: 5.6852e-05 - accuracy: 1.0000\n",
      "Testing loss: 7.871997833251953, accuracy: 0.3982684016227722\n",
      "\n",
      "24/24 [==============================] - 0s 20ms/step - loss: 6.1497e-05 - accuracy: 1.0000 - val_loss: 6.8756 - val_accuracy: 0.4162\n",
      "Epoch 37/50\n",
      "24/24 [==============================] - ETA: 0s - loss: 6.8448e-05 - accuracy: 1.0000\n",
      "Testing loss: 7.901916980743408, accuracy: 0.4199134111404419\n",
      "\n",
      "24/24 [==============================] - 0s 21ms/step - loss: 6.8448e-05 - accuracy: 1.0000 - val_loss: 7.0577 - val_accuracy: 0.4108\n",
      "Epoch 38/50\n",
      "20/24 [========================>.....] - ETA: 0s - loss: 5.3709e-05 - accuracy: 1.0000\n",
      "Testing loss: 7.979268550872803, accuracy: 0.3982684016227722\n",
      "\n",
      "24/24 [==============================] - 0s 21ms/step - loss: 5.4909e-05 - accuracy: 1.0000 - val_loss: 7.0124 - val_accuracy: 0.4108\n",
      "Epoch 39/50\n",
      "24/24 [==============================] - ETA: 0s - loss: 6.0445e-05 - accuracy: 1.0000\n",
      "Testing loss: 7.942561626434326, accuracy: 0.38528138399124146\n",
      "\n",
      "24/24 [==============================] - 0s 21ms/step - loss: 6.0445e-05 - accuracy: 1.0000 - val_loss: 6.8227 - val_accuracy: 0.3784\n",
      "Epoch 40/50\n",
      "23/24 [===========================>..] - ETA: 0s - loss: 5.3727e-05 - accuracy: 1.0000\n",
      "Testing loss: 7.949649333953857, accuracy: 0.39393940567970276\n",
      "\n",
      "24/24 [==============================] - 1s 22ms/step - loss: 5.3672e-05 - accuracy: 1.0000 - val_loss: 7.0265 - val_accuracy: 0.4162\n",
      "Epoch 41/50\n",
      "23/24 [===========================>..] - ETA: 0s - loss: 4.6662e-05 - accuracy: 1.0000\n",
      "Testing loss: 8.030078887939453, accuracy: 0.38528138399124146\n",
      "\n",
      "24/24 [==============================] - 1s 21ms/step - loss: 4.6448e-05 - accuracy: 1.0000 - val_loss: 7.0476 - val_accuracy: 0.4108\n",
      "Epoch 42/50\n",
      "22/24 [==========================>...] - ETA: 0s - loss: 4.2698e-05 - accuracy: 1.0000\n",
      "Testing loss: 8.035233497619629, accuracy: 0.39393940567970276\n",
      "\n",
      "24/24 [==============================] - 0s 21ms/step - loss: 4.2332e-05 - accuracy: 1.0000 - val_loss: 7.0761 - val_accuracy: 0.4108\n",
      "Epoch 43/50\n",
      "21/24 [=========================>....] - ETA: 0s - loss: 4.1201e-05 - accuracy: 1.0000\n",
      "Testing loss: 8.073156356811523, accuracy: 0.38528138399124146\n",
      "\n",
      "24/24 [==============================] - 0s 20ms/step - loss: 3.9914e-05 - accuracy: 1.0000 - val_loss: 7.1557 - val_accuracy: 0.4216\n",
      "Epoch 44/50\n",
      "21/24 [=========================>....] - ETA: 0s - loss: 3.7045e-05 - accuracy: 1.0000\n",
      "Testing loss: 8.096281051635742, accuracy: 0.380952388048172\n",
      "\n",
      "24/24 [==============================] - 0s 20ms/step - loss: 3.7729e-05 - accuracy: 1.0000 - val_loss: 7.1922 - val_accuracy: 0.4216\n",
      "Epoch 45/50\n",
      "21/24 [=========================>....] - ETA: 0s - loss: 3.5534e-05 - accuracy: 1.0000\n",
      "Testing loss: 8.151041984558105, accuracy: 0.37662336230278015\n",
      "\n",
      "24/24 [==============================] - 0s 20ms/step - loss: 3.5590e-05 - accuracy: 1.0000 - val_loss: 7.1993 - val_accuracy: 0.4216\n",
      "Epoch 46/50\n",
      "23/24 [===========================>..] - ETA: 0s - loss: 3.4057e-05 - accuracy: 1.0000\n",
      "Testing loss: 8.19500732421875, accuracy: 0.3722943663597107\n",
      "\n",
      "24/24 [==============================] - 1s 21ms/step - loss: 3.3931e-05 - accuracy: 1.0000 - val_loss: 7.2571 - val_accuracy: 0.4162\n",
      "Epoch 47/50\n",
      "23/24 [===========================>..] - ETA: 0s - loss: 3.2179e-05 - accuracy: 1.0000\n",
      "Testing loss: 8.208464622497559, accuracy: 0.37662336230278015\n",
      "\n",
      "24/24 [==============================] - 1s 21ms/step - loss: 3.2162e-05 - accuracy: 1.0000 - val_loss: 7.2709 - val_accuracy: 0.4162\n",
      "Epoch 48/50\n",
      "21/24 [=========================>....] - ETA: 0s - loss: 3.0623e-05 - accuracy: 1.0000\n",
      "Testing loss: 8.238457679748535, accuracy: 0.37662336230278015\n",
      "\n",
      "24/24 [==============================] - 0s 21ms/step - loss: 3.0922e-05 - accuracy: 1.0000 - val_loss: 7.3155 - val_accuracy: 0.4108\n",
      "Epoch 49/50\n",
      "24/24 [==============================] - ETA: 0s - loss: 2.9279e-05 - accuracy: 1.0000\n",
      "Testing loss: 8.24587631225586, accuracy: 0.38528138399124146\n",
      "\n",
      "24/24 [==============================] - 1s 21ms/step - loss: 2.9279e-05 - accuracy: 1.0000 - val_loss: 7.3497 - val_accuracy: 0.4216\n",
      "Epoch 50/50\n",
      "21/24 [=========================>....] - ETA: 0s - loss: 2.7802e-05 - accuracy: 1.0000\n",
      "Testing loss: 8.29872989654541, accuracy: 0.380952388048172\n",
      "\n",
      "24/24 [==============================] - 0s 19ms/step - loss: 2.7810e-05 - accuracy: 1.0000 - val_loss: 7.3820 - val_accuracy: 0.4108\n"
     ]
    }
   ],
   "source": [
    "# Compile the model\n",
    "model.compile(loss= OCC_loss, #tf.keras.losses.sparse_categorical_crossentropy,\n",
    "              optimizer=tf.keras.optimizers.Adam(),\n",
    "              metrics=['accuracy'])\n",
    "test_accuracy = EvaluateEpochEnd((test_data,  test_ids))\n",
    "history = model.fit(train_data, train_ids, epochs=50\n",
    "                    , validation_data=(val_data, val_ids), callbacks=[test_accuracy])"
   ]
  },
  {
   "cell_type": "code",
   "execution_count": 44,
   "id": "6db0e5bd-a961-4988-ba62-fb81f8d116b2",
   "metadata": {},
   "outputs": [],
   "source": [
    "#model.save(\"/Users/amalalmansour/Desktop/New_Images/Spiculation/Rad4_Machine\")"
   ]
  },
  {
   "cell_type": "code",
   "execution_count": 45,
   "id": "f5d1c005-f1d2-4d65-a2ab-e40b7443fac7",
   "metadata": {},
   "outputs": [],
   "source": [
    "test_acc = test_accuracy.acc_scores_lst\n",
    "test_loss = test_accuracy.loss_scores_lst"
   ]
  },
  {
   "cell_type": "code",
   "execution_count": 46,
   "id": "364aade0",
   "metadata": {},
   "outputs": [
    {
     "data": {
      "text/plain": [
       "<matplotlib.legend.Legend at 0x2990c13a0>"
      ]
     },
     "execution_count": 46,
     "metadata": {},
     "output_type": "execute_result"
    },
    {
     "data": {
      "image/png": "[encoded data removed]",
      "text/plain": [
       "<Figure size 720x720 with 1 Axes>"
      ]
     },
     "metadata": {
      "needs_background": "light"
     },
     "output_type": "display_data"
    }
   ],
   "source": [
    "plt.figure(figsize=(10, 10))\n",
    "plt.plot(history.history['accuracy'], label='Training Accuracy')\n",
    "plt.plot(history.history['val_accuracy'], label = 'Validation Accuracy')\n",
    "plt.plot(test_acc, label = 'Testing Accuracy')\n",
    "plt.xlabel('Epoch', fontsize = 15)\n",
    "plt.ylabel('Accuracy', fontsize = 15)\n",
    "plt.ylim([0.0, 1.02])\n",
    "plt.legend(loc='lower right', prop={'size': 15})"
   ]
  },
  {
   "cell_type": "code",
   "execution_count": 47,
   "id": "99d9257f-dc65-44f5-9ef7-b328146c9620",
   "metadata": {},
   "outputs": [
    {
     "data": {
      "text/plain": [
       "<matplotlib.legend.Legend at 0x2990b5a90>"
      ]
     },
     "execution_count": 47,
     "metadata": {},
     "output_type": "execute_result"
    },
    {
     "data": {
      "image/png": "[encoded data removed]",
      "text/plain": [
       "<Figure size 720x720 with 1 Axes>"
      ]
     },
     "metadata": {
      "needs_background": "light"
     },
     "output_type": "display_data"
    }
   ],
   "source": [
    "plt.figure(figsize=(10, 10))\n",
    "plt.plot(history.history['loss'], label='Training Loss')\n",
    "plt.plot(history.history['val_loss'], label = 'Validation Loss')\n",
    "plt.plot(test_loss, label = 'Testing Loss')\n",
    "plt.xlabel('Epoch', fontsize = 15)\n",
    "plt.ylabel('Loss', fontsize = 15)\n",
    "#plt.ylim([0.0, 1.02])\n",
    "plt.legend(loc='upper right', prop={'size': 15})"
   ]
  },
  {
   "cell_type": "code",
   "execution_count": 48,
   "id": "f33f64eb-aaa6-4dc6-9235-8f6fa40b2009",
   "metadata": {},
   "outputs": [
    {
     "name": "stdout",
     "output_type": "stream",
     "text": [
      "8/8 - 0s - loss: 8.2987 - accuracy: 0.3810 - 74ms/epoch - 9ms/step\n"
     ]
    }
   ],
   "source": [
    "test_loss, test_acc = model.evaluate(test_data,  test_ids, verbose=2)"
   ]
  },
  {
   "cell_type": "code",
   "execution_count": 49,
   "id": "344f7545-6827-43d6-92cf-faa72c077228",
   "metadata": {},
   "outputs": [
    {
     "data": {
      "text/plain": [
       "0.380952388048172"
      ]
     },
     "execution_count": 49,
     "metadata": {},
     "output_type": "execute_result"
    }
   ],
   "source": [
    "test_acc"
   ]
  },
  {
   "cell_type": "code",
   "execution_count": 50,
   "id": "e1911e8a-106b-4f3a-96bd-b7c26b4db437",
   "metadata": {},
   "outputs": [],
   "source": [
    "predictions = model.predict(test_data)"
   ]
  },
  {
   "cell_type": "code",
   "execution_count": 51,
   "id": "add373c3-c634-43ff-9771-ebf575490b93",
   "metadata": {},
   "outputs": [],
   "source": [
    "#y_pred = (predictions > 0.5)"
   ]
  },
  {
   "cell_type": "code",
   "execution_count": 52,
   "id": "6fd4ab2b-2eda-45a6-9798-c5bd24f63772",
   "metadata": {},
   "outputs": [
    {
     "name": "stdout",
     "output_type": "stream",
     "text": [
      "8/8 - 0s - loss: 8.2987 - accuracy: 0.3810 - 65ms/epoch - 8ms/step\n",
      "[8.29872989654541, 0.380952388048172]\n"
     ]
    }
   ],
   "source": [
    "print(model.evaluate(test_data,  test_ids, verbose=2))"
   ]
  },
  {
   "cell_type": "code",
   "execution_count": 53,
   "id": "3384bb50-bb31-4b3c-b253-4f6d9d22648a",
   "metadata": {},
   "outputs": [],
   "source": [
    "y_preds_multiclass = predictions.argmax(axis=1)"
   ]
  },
  {
   "cell_type": "code",
   "execution_count": 54,
   "id": "cbb0801c-ccde-4978-8d3a-4957ec6d00f0",
   "metadata": {},
   "outputs": [
    {
     "data": {
      "text/plain": [
       "array([2, 2, 1, 1, 2, 2, 1, 1, 1, 0, 1, 2, 3, 0, 2, 1, 2, 1, 1, 2, 1, 1,\n",
       "       2, 2, 1, 1, 3, 2, 2, 2, 0, 1, 2, 2, 1, 1, 2, 3, 1, 4, 3, 3, 1, 2,\n",
       "       1, 4, 2, 3, 1, 2, 1, 1, 2, 2, 2, 3, 1, 2, 3, 1, 3, 1, 3, 3, 2, 1,\n",
       "       2, 1, 4, 3, 3, 1, 1, 1, 1, 2, 1, 1, 0, 2, 1, 2, 2, 2, 2, 1, 2, 1,\n",
       "       2, 1, 0, 2, 2, 3, 2, 1, 2, 2, 2, 2, 1, 2, 0, 2, 3, 3, 1, 1, 1, 1,\n",
       "       3, 1, 2, 3, 1, 1, 3, 2, 2, 0, 2, 3, 1, 2, 1, 2, 2, 2, 1, 1, 1, 2,\n",
       "       2, 2, 2, 0, 1, 3, 2, 2, 2, 2, 2, 2, 2, 1, 1, 0, 1, 1, 1, 1, 1, 2,\n",
       "       2, 1, 2, 2, 2, 1, 3, 2, 3, 1, 2, 1, 1, 1, 1, 1, 1, 1, 2, 2, 3, 1,\n",
       "       1, 2, 1, 3, 1, 3, 1, 1, 3, 1, 1, 2, 2, 1, 2, 2, 2, 2, 0, 0, 0, 0,\n",
       "       0, 2, 0, 0, 0, 0, 0, 0, 0, 0, 1, 0, 0, 0, 0, 0, 0, 2, 0, 0, 0, 0,\n",
       "       0, 0, 0, 0, 0, 0, 1, 0, 0, 2, 2])"
      ]
     },
     "execution_count": 54,
     "metadata": {},
     "output_type": "execute_result"
    }
   ],
   "source": [
    "y_preds_multiclass"
   ]
  },
  {
   "cell_type": "code",
   "execution_count": 55,
   "id": "844281ef-fa25-4261-b5d0-40b5f56c3463",
   "metadata": {},
   "outputs": [],
   "source": [
    "l = y_preds_multiclass.tolist()\n",
    "l1 = [5 if x == 4 else x for x in l]\n",
    "l2 = [4 if x == 3 else x for x in l1]\n",
    "l3 = [3 if x == 2 else x for x in l2]\n",
    "l4 = [2 if x == 1 else x for x in l3]\n",
    "l5 = [1 if x == 0 else x for x in l4]\n",
    "y_preds_multiclass = np.array(l5)"
   ]
  },
  {
   "cell_type": "code",
   "execution_count": 56,
   "id": "35847f4e-4316-44f2-9555-2f48a6e17d9e",
   "metadata": {},
   "outputs": [],
   "source": [
    "tr_predictions = model.predict(train_data)\n",
    "y_tr_preds_multiclass = tr_predictions.argmax(axis=1)"
   ]
  },
  {
   "cell_type": "code",
   "execution_count": 57,
   "id": "bde0e47e-133d-45d9-9747-fdd99f916516",
   "metadata": {},
   "outputs": [],
   "source": [
    "l = y_tr_preds_multiclass.tolist()\n",
    "l1 = [5 if x == 4 else x for x in l]\n",
    "l2 = [4 if x == 3 else x for x in l1]\n",
    "l3 = [3 if x == 2 else x for x in l2]\n",
    "l4 = [2 if x == 1 else x for x in l3]\n",
    "l5 = [1 if x == 0 else x for x in l4]\n",
    "y_tr_preds_multiclass = np.array(l5)"
   ]
  },
  {
   "cell_type": "code",
   "execution_count": 58,
   "id": "beb1a575-c29f-4e91-947f-71d50e92e936",
   "metadata": {},
   "outputs": [
    {
     "name": "stdout",
     "output_type": "stream",
     "text": [
      "[[25  5  9  0  0]\n",
      " [ 7 37 37  8  0]\n",
      " [ 5 23 20  7  1]\n",
      " [ 3 10 11  5  1]\n",
      " [ 0  5  4  7  1]]\n",
      "[[112   0   0   0   0]\n",
      " [  0 253   0   0   0]\n",
      " [  0   0 221   0   0]\n",
      " [  0   0   0 115   0]\n",
      " [  0   0   0   0  39]]\n"
     ]
    }
   ],
   "source": [
    "from sklearn.metrics import confusion_matrix\n",
    "print(confusion_matrix(y_test, y_preds_multiclass))\n",
    "print(confusion_matrix(y_train, y_tr_preds_multiclass))"
   ]
  },
  {
   "cell_type": "code",
   "execution_count": 59,
   "id": "a73f789f-4149-4bc6-ace0-476171d4172e",
   "metadata": {},
   "outputs": [],
   "source": [
    "all_images = np.array(all_images)\n",
    "all_data = all_images.reshape(all_images.shape[0],71,71,1)  \n",
    "all_ids = np.array(all_noduleId)"
   ]
  },
  {
   "cell_type": "code",
   "execution_count": 60,
   "id": "0e255910-eeec-4160-894e-fe4afa469000",
   "metadata": {},
   "outputs": [],
   "source": [
    "all_predictions = model.predict(all_data)\n",
    "y = all_predictions.argmax(axis=1)"
   ]
  },
  {
   "cell_type": "code",
   "execution_count": 61,
   "id": "4a154287-3f94-4206-b90a-3355f08fb324",
   "metadata": {},
   "outputs": [],
   "source": [
    "l = y.tolist()\n",
    "l1 = [5 if x == 4 else x for x in l]\n",
    "l2 = [4 if x == 3 else x for x in l1]\n",
    "l3 = [3 if x == 2 else x for x in l2]\n",
    "l4 = [2 if x == 1 else x for x in l3]\n",
    "l5 = [1 if x == 0 else x for x in l4]"
   ]
  },
  {
   "cell_type": "code",
   "execution_count": 62,
   "id": "62053f7e-47aa-4596-a27d-0d2aa5e279d6",
   "metadata": {},
   "outputs": [],
   "source": [
    "data = {'noduleID': all_noduleId,\n",
    "        'pred_ratings': l5}"
   ]
  },
  {
   "cell_type": "code",
   "execution_count": 63,
   "id": "706988d8-089c-49f6-85d8-081736f3c168",
   "metadata": {},
   "outputs": [
    {
     "data": {
      "text/html": [
       "<div>\n",
       "<style scoped>\n",
       "    .dataframe tbody tr th:only-of-type {\n",
       "        vertical-align: middle;\n",
       "    }\n",
       "\n",
       "    .dataframe tbody tr th {\n",
       "        vertical-align: top;\n",
       "    }\n",
       "\n",
       "    .dataframe thead th {\n",
       "        text-align: right;\n",
       "    }\n",
       "</style>\n",
       "<table border=\"1\" class=\"dataframe\">\n",
       "  <thead>\n",
       "    <tr style=\"text-align: right;\">\n",
       "      <th></th>\n",
       "      <th>noduleID</th>\n",
       "      <th>pred_ratings</th>\n",
       "    </tr>\n",
       "  </thead>\n",
       "  <tbody>\n",
       "    <tr>\n",
       "      <th>0</th>\n",
       "      <td>1084</td>\n",
       "      <td>3</td>\n",
       "    </tr>\n",
       "    <tr>\n",
       "      <th>1</th>\n",
       "      <td>2412</td>\n",
       "      <td>2</td>\n",
       "    </tr>\n",
       "    <tr>\n",
       "      <th>2</th>\n",
       "      <td>2374</td>\n",
       "      <td>2</td>\n",
       "    </tr>\n",
       "    <tr>\n",
       "      <th>3</th>\n",
       "      <td>471</td>\n",
       "      <td>2</td>\n",
       "    </tr>\n",
       "    <tr>\n",
       "      <th>4</th>\n",
       "      <td>1907</td>\n",
       "      <td>2</td>\n",
       "    </tr>\n",
       "    <tr>\n",
       "      <th>...</th>\n",
       "      <td>...</td>\n",
       "      <td>...</td>\n",
       "    </tr>\n",
       "    <tr>\n",
       "      <th>1151</th>\n",
       "      <td>657</td>\n",
       "      <td>3</td>\n",
       "    </tr>\n",
       "    <tr>\n",
       "      <th>1152</th>\n",
       "      <td>2609</td>\n",
       "      <td>3</td>\n",
       "    </tr>\n",
       "    <tr>\n",
       "      <th>1153</th>\n",
       "      <td>904</td>\n",
       "      <td>1</td>\n",
       "    </tr>\n",
       "    <tr>\n",
       "      <th>1154</th>\n",
       "      <td>2594</td>\n",
       "      <td>1</td>\n",
       "    </tr>\n",
       "    <tr>\n",
       "      <th>1155</th>\n",
       "      <td>2219</td>\n",
       "      <td>1</td>\n",
       "    </tr>\n",
       "  </tbody>\n",
       "</table>\n",
       "<p>1156 rows × 2 columns</p>\n",
       "</div>"
      ],
      "text/plain": [
       "      noduleID  pred_ratings\n",
       "0         1084             3\n",
       "1         2412             2\n",
       "2         2374             2\n",
       "3          471             2\n",
       "4         1907             2\n",
       "...        ...           ...\n",
       "1151       657             3\n",
       "1152      2609             3\n",
       "1153       904             1\n",
       "1154      2594             1\n",
       "1155      2219             1\n",
       "\n",
       "[1156 rows x 2 columns]"
      ]
     },
     "execution_count": 63,
     "metadata": {},
     "output_type": "execute_result"
    }
   ],
   "source": [
    "all_df = pd.DataFrame(data)\n",
    "all_df"
   ]
  },
  {
   "cell_type": "code",
   "execution_count": 64,
   "id": "d6c5b167-ce87-4fc4-9cd4-4e3177ce55a1",
   "metadata": {},
   "outputs": [
    {
     "data": {
      "text/plain": [
       "2    413\n",
       "3    358\n",
       "1    181\n",
       "4    159\n",
       "5     45\n",
       "Name: pred_ratings, dtype: int64"
      ]
     },
     "execution_count": 64,
     "metadata": {},
     "output_type": "execute_result"
    }
   ],
   "source": [
    "all_df.pred_ratings.value_counts()"
   ]
  },
  {
   "cell_type": "code",
   "execution_count": 65,
   "id": "1fb6d6af-4c16-4071-a526-adc2df81538d",
   "metadata": {},
   "outputs": [],
   "source": [
    "all_df.to_csv(\"/Users/amalalmansour/Desktop/New_Images/Malignancy/OCC_machine4.csv\")"
   ]
  }
 ],
 "metadata": {
  "kernelspec": {
   "display_name": "Python 3",
   "language": "python",
   "name": "python3"
  },
  "language_info": {
   "codemirror_mode": {
    "name": "ipython",
    "version": 3
   },
   "file_extension": ".py",
   "mimetype": "text/x-python",
   "name": "python",
   "nbconvert_exporter": "python",
   "pygments_lexer": "ipython3",
   "version": "3.9.7"
  }
 },
 "nbformat": 4,
 "nbformat_minor": 5
}
