{
 "cells": [
  {
   "cell_type": "code",
   "execution_count": 1,
   "id": "f881b82e-4574-4fd8-930c-83fdc9ed7e1b",
   "metadata": {},
   "outputs": [],
   "source": [
    "%matplotlib inline\n",
    "import matplotlib.pyplot as plt\n",
    "import numpy as np\n",
    "from sklearn.metrics import confusion_matrix\n",
    "import time\n",
    "from datetime import timedelta\n",
    "import math\n",
    "import pandas as pd\n",
    "import os\n",
    "from os import path\n",
    "import sklearn.model_selection as sk"
   ]
  },
  {
   "cell_type": "code",
   "execution_count": 2,
   "id": "db6328d3-ea56-4109-88a8-442e33018599",
   "metadata": {},
   "outputs": [
    {
     "name": "stdout",
     "output_type": "stream",
     "text": [
      "WARNING:tensorflow:From /Users/amalalmansour/miniforge3/envs/env_tensorflow/lib/python3.9/site-packages/tensorflow/python/compat/v2_compat.py:111: disable_resource_variables (from tensorflow.python.ops.variable_scope) is deprecated and will be removed in a future version.\n",
      "Instructions for updating:\n",
      "non-resource variables are not supported in the long term\n"
     ]
    }
   ],
   "source": [
    "# Use TensorFlow v.2 with this old v.1 code.\n",
    "# E.g. placeholder variables and sessions have changed in TF2.\n",
    "import tensorflow.compat.v1 as tf\n",
    "tf.disable_v2_behavior()"
   ]
  },
  {
   "cell_type": "code",
   "execution_count": 3,
   "id": "63bd1fc7-6da5-4998-8fe3-3b058e185a9d",
   "metadata": {},
   "outputs": [
    {
     "data": {
      "text/plain": [
       "'2.7.0'"
      ]
     },
     "execution_count": 3,
     "metadata": {},
     "output_type": "execute_result"
    }
   ],
   "source": [
    "tf.__version__"
   ]
  },
  {
   "cell_type": "code",
   "execution_count": 4,
   "id": "0a8fa774-0ec5-42ae-a766-ac571413b6f8",
   "metadata": {},
   "outputs": [],
   "source": [
    "# Convolutional Layer 1.\n",
    "filter_size1 = 5          # Convolution filters are 5 x 5 pixels.\n",
    "num_filters1 = 16         # There are 16 of these filters.\n",
    "\n",
    "# Convolutional Layer 2.\n",
    "filter_size2 = 5          # Convolution filters are 5 x 5 pixels.\n",
    "num_filters2 = 36         # There are 36 of these filters.\n",
    "\n",
    "# Fully-connected layer.\n",
    "fc_size = 128             # Number of neurons in fully-connected layer."
   ]
  },
  {
   "cell_type": "code",
   "execution_count": 5,
   "id": "596ea68d-b6cc-46f8-a95c-fb4862f54733",
   "metadata": {},
   "outputs": [],
   "source": [
    "def getNormed(this_array, this_min = 0, this_max = 255, set_to_int = True):\n",
    "    new_var = this_array.copy()\n",
    "    rat = (this_max - this_min)/(new_var.max() - new_var.min())\n",
    "    new_var = new_var * rat\n",
    "    new_var -= new_var.min()\n",
    "    new_var += this_min\n",
    "    if set_to_int:\n",
    "        return new_var.astype('uint8')\n",
    "    return new_var"
   ]
  },
  {
   "cell_type": "code",
   "execution_count": 6,
   "id": "f60cf653-5fb9-4014-8de0-b6b4ad6f1acb",
   "metadata": {},
   "outputs": [
    {
     "data": {
      "text/plain": [
       "1332"
      ]
     },
     "execution_count": 6,
     "metadata": {},
     "output_type": "execute_result"
    }
   ],
   "source": [
    "#train = pd.read_csv('/Users/amalalmansour/Desktop/New_Images/Malignancy/train.csv')\n",
    "train = pd.read_csv('/Users/amalalmansour/Desktop/New_Images/Spiculation/Agreement_Binary_Rating.csv')\n",
    "len(train)"
   ]
  },
  {
   "cell_type": "code",
   "execution_count": 7,
   "id": "bea9791c-251c-41c5-bb8f-8d4c97882eee",
   "metadata": {},
   "outputs": [
    {
     "data": {
      "text/html": [
       "<div>\n",
       "<style scoped>\n",
       "    .dataframe tbody tr th:only-of-type {\n",
       "        vertical-align: middle;\n",
       "    }\n",
       "\n",
       "    .dataframe tbody tr th {\n",
       "        vertical-align: top;\n",
       "    }\n",
       "\n",
       "    .dataframe thead th {\n",
       "        text-align: right;\n",
       "    }\n",
       "</style>\n",
       "<table border=\"1\" class=\"dataframe\">\n",
       "  <thead>\n",
       "    <tr style=\"text-align: right;\">\n",
       "      <th></th>\n",
       "      <th>noduleID</th>\n",
       "      <th>InstanceID</th>\n",
       "      <th>Dataset</th>\n",
       "      <th>Binary Rating</th>\n",
       "      <th>Bin_Rating</th>\n",
       "      <th>Binary_Rating_name</th>\n",
       "      <th>Agreement</th>\n",
       "      <th>Agreement_name</th>\n",
       "      <th>Category</th>\n",
       "    </tr>\n",
       "  </thead>\n",
       "  <tbody>\n",
       "    <tr>\n",
       "      <th>0</th>\n",
       "      <td>1</td>\n",
       "      <td>4</td>\n",
       "      <td>1</td>\n",
       "      <td>2</td>\n",
       "      <td>2</td>\n",
       "      <td>Unknown</td>\n",
       "      <td>1</td>\n",
       "      <td>Low Radiologist Agreement</td>\n",
       "      <td>Low/None</td>\n",
       "    </tr>\n",
       "    <tr>\n",
       "      <th>1</th>\n",
       "      <td>5</td>\n",
       "      <td>118</td>\n",
       "      <td>2</td>\n",
       "      <td>0</td>\n",
       "      <td>0</td>\n",
       "      <td>Not Spiculated</td>\n",
       "      <td>3</td>\n",
       "      <td>All Radiologist Agreement</td>\n",
       "      <td>Training</td>\n",
       "    </tr>\n",
       "    <tr>\n",
       "      <th>2</th>\n",
       "      <td>3</td>\n",
       "      <td>134</td>\n",
       "      <td>1</td>\n",
       "      <td>2</td>\n",
       "      <td>2</td>\n",
       "      <td>Unknown</td>\n",
       "      <td>1</td>\n",
       "      <td>Low Radiologist Agreement</td>\n",
       "      <td>Low/None</td>\n",
       "    </tr>\n",
       "    <tr>\n",
       "      <th>3</th>\n",
       "      <td>4</td>\n",
       "      <td>143</td>\n",
       "      <td>1</td>\n",
       "      <td>2</td>\n",
       "      <td>2</td>\n",
       "      <td>Unknown</td>\n",
       "      <td>1</td>\n",
       "      <td>Low Radiologist Agreement</td>\n",
       "      <td>Low/None</td>\n",
       "    </tr>\n",
       "    <tr>\n",
       "      <th>4</th>\n",
       "      <td>6</td>\n",
       "      <td>175</td>\n",
       "      <td>2</td>\n",
       "      <td>0</td>\n",
       "      <td>0</td>\n",
       "      <td>Not Spiculated</td>\n",
       "      <td>3</td>\n",
       "      <td>All Radiologist Agreement</td>\n",
       "      <td>Training</td>\n",
       "    </tr>\n",
       "    <tr>\n",
       "      <th>...</th>\n",
       "      <td>...</td>\n",
       "      <td>...</td>\n",
       "      <td>...</td>\n",
       "      <td>...</td>\n",
       "      <td>...</td>\n",
       "      <td>...</td>\n",
       "      <td>...</td>\n",
       "      <td>...</td>\n",
       "      <td>...</td>\n",
       "    </tr>\n",
       "    <tr>\n",
       "      <th>1327</th>\n",
       "      <td>2655</td>\n",
       "      <td>40771</td>\n",
       "      <td>2</td>\n",
       "      <td>0</td>\n",
       "      <td>0</td>\n",
       "      <td>Not Spiculated</td>\n",
       "      <td>2</td>\n",
       "      <td>High Radiologist Agreement</td>\n",
       "      <td>Testing</td>\n",
       "    </tr>\n",
       "    <tr>\n",
       "      <th>1328</th>\n",
       "      <td>2657</td>\n",
       "      <td>40780</td>\n",
       "      <td>1</td>\n",
       "      <td>2</td>\n",
       "      <td>2</td>\n",
       "      <td>Unknown</td>\n",
       "      <td>1</td>\n",
       "      <td>Low Radiologist Agreement</td>\n",
       "      <td>Low/None</td>\n",
       "    </tr>\n",
       "    <tr>\n",
       "      <th>1329</th>\n",
       "      <td>2656</td>\n",
       "      <td>40794</td>\n",
       "      <td>1</td>\n",
       "      <td>2</td>\n",
       "      <td>2</td>\n",
       "      <td>Unknown</td>\n",
       "      <td>0</td>\n",
       "      <td>No Radiologist Agreement</td>\n",
       "      <td>Low/None</td>\n",
       "    </tr>\n",
       "    <tr>\n",
       "      <th>1330</th>\n",
       "      <td>2658</td>\n",
       "      <td>40801</td>\n",
       "      <td>1</td>\n",
       "      <td>2</td>\n",
       "      <td>2</td>\n",
       "      <td>Unknown</td>\n",
       "      <td>0</td>\n",
       "      <td>No Radiologist Agreement</td>\n",
       "      <td>Low/None</td>\n",
       "    </tr>\n",
       "    <tr>\n",
       "      <th>1331</th>\n",
       "      <td>2660</td>\n",
       "      <td>40860</td>\n",
       "      <td>2</td>\n",
       "      <td>0</td>\n",
       "      <td>0</td>\n",
       "      <td>Not Spiculated</td>\n",
       "      <td>2</td>\n",
       "      <td>High Radiologist Agreement</td>\n",
       "      <td>Training</td>\n",
       "    </tr>\n",
       "  </tbody>\n",
       "</table>\n",
       "<p>1332 rows × 9 columns</p>\n",
       "</div>"
      ],
      "text/plain": [
       "      noduleID  InstanceID  Dataset  Binary Rating  Bin_Rating  \\\n",
       "0            1           4        1              2           2   \n",
       "1            5         118        2              0           0   \n",
       "2            3         134        1              2           2   \n",
       "3            4         143        1              2           2   \n",
       "4            6         175        2              0           0   \n",
       "...        ...         ...      ...            ...         ...   \n",
       "1327      2655       40771        2              0           0   \n",
       "1328      2657       40780        1              2           2   \n",
       "1329      2656       40794        1              2           2   \n",
       "1330      2658       40801        1              2           2   \n",
       "1331      2660       40860        2              0           0   \n",
       "\n",
       "     Binary_Rating_name  Agreement              Agreement_name  Category  \n",
       "0               Unknown          1   Low Radiologist Agreement  Low/None  \n",
       "1        Not Spiculated          3   All Radiologist Agreement  Training  \n",
       "2               Unknown          1   Low Radiologist Agreement  Low/None  \n",
       "3               Unknown          1   Low Radiologist Agreement  Low/None  \n",
       "4        Not Spiculated          3   All Radiologist Agreement  Training  \n",
       "...                 ...        ...                         ...       ...  \n",
       "1327     Not Spiculated          2  High Radiologist Agreement   Testing  \n",
       "1328            Unknown          1   Low Radiologist Agreement  Low/None  \n",
       "1329            Unknown          0    No Radiologist Agreement  Low/None  \n",
       "1330            Unknown          0    No Radiologist Agreement  Low/None  \n",
       "1331     Not Spiculated          2  High Radiologist Agreement  Training  \n",
       "\n",
       "[1332 rows x 9 columns]"
      ]
     },
     "metadata": {},
     "output_type": "display_data"
    }
   ],
   "source": [
    "display(train)"
   ]
  },
  {
   "cell_type": "code",
   "execution_count": 8,
   "id": "53b80f5a-6371-4096-8976-3e5e97440fbc",
   "metadata": {},
   "outputs": [],
   "source": [
    "training_data = train.sample(frac=0.8, random_state=10)\n",
    "testing_data = train.drop(training_data.index)"
   ]
  },
  {
   "cell_type": "code",
   "execution_count": 9,
   "id": "63486045-08c8-4aec-a9fb-cb9ed36087d1",
   "metadata": {},
   "outputs": [
    {
     "name": "stdout",
     "output_type": "stream",
     "text": [
      "training_data: 1066\n",
      "testing_data: 266\n"
     ]
    }
   ],
   "source": [
    "print(\"training_data:\",len(training_data))\n",
    "print(\"testing_data:\",len(testing_data))"
   ]
  },
  {
   "cell_type": "code",
   "execution_count": 10,
   "id": "61f50347-eec4-4341-9bac-ddd1a90e6739",
   "metadata": {},
   "outputs": [],
   "source": [
    "train_nodIds = np.array(training_data['noduleID'])\n",
    "test_nodIds = np.array(testing_data['noduleID'])"
   ]
  },
  {
   "cell_type": "code",
   "execution_count": 11,
   "id": "c6c6b42f-23f5-40b8-bddd-6af328cf21b7",
   "metadata": {},
   "outputs": [
    {
     "name": "stdout",
     "output_type": "stream",
     "text": [
      "/Users/amalalmansour/Desktop/images_1332\n",
      ".DS_Store\n",
      "Malignancy_2\n",
      "Malignancy_5\n",
      "Malignancy_4\n",
      "Malignancy_3\n",
      "Malignancy_1\n"
     ]
    }
   ],
   "source": [
    "# collect all images for training\n",
    "image_folder = '/Users/amalalmansour/Desktop/images_1332'\n",
    "train_images = []\n",
    "val_images = []\n",
    "test_images = []\n",
    "train_noduleId = []\n",
    "val_noduleId = []\n",
    "test_noduleId = []\n",
    "print(image_folder)\n",
    "\n",
    "for dir1 in os.listdir(image_folder):\n",
    "    print(dir1)\n",
    "    if not dir1.startswith('.'):\n",
    "        for file in os.listdir(os.path.join(image_folder, dir1)):\n",
    "            #print(file)\n",
    "            noduleID = file.split('.')[0]\n",
    "            if not file.startswith('.'):\n",
    "                noduleID = int(noduleID)\n",
    "                if noduleID in train_nodIds:\n",
    "                    train_noduleId.append(noduleID)\n",
    "                    temp_image = np.loadtxt(os.path.join(image_folder, dir1,file))\n",
    "                    temp_image = getNormed(temp_image)\n",
    "                    #enlarged_img = getSamePadding(temp_image)\n",
    "                    train_images.append(temp_image)\n",
    "            \n",
    "                '''if noduleID in val_nodIds:\n",
    "                    val_noduleId.append(noduleID)\n",
    "                    temp_image = np.loadtxt(os.path.join(image_folder, dir1,file))\n",
    "                    temp_image = getNormed(temp_image)\n",
    "                    val_images.append(temp_image)'''\n",
    "            \n",
    "        \n",
    "                if noduleID in test_nodIds:\n",
    "                    test_noduleId.append(noduleID)\n",
    "                    temp_image = np.loadtxt(os.path.join(image_folder, dir1,file))\n",
    "                    temp_image = getNormed(temp_image)\n",
    "                    test_images.append(temp_image)"
   ]
  },
  {
   "cell_type": "code",
   "execution_count": 12,
   "id": "d5cd1b2e-6762-4650-a85d-1ffb55265f37",
   "metadata": {},
   "outputs": [
    {
     "name": "stdout",
     "output_type": "stream",
     "text": [
      "train_images: 1066\n",
      "test_images: 266\n"
     ]
    }
   ],
   "source": [
    "print(\"train_images:\",len(train_images))\n",
    "#print(\"val_images:\",len(val_images))\n",
    "print(\"test_images:\",len(test_images))"
   ]
  },
  {
   "cell_type": "code",
   "execution_count": 13,
   "id": "46ea6b34-aba5-4d54-a940-159a2690984e",
   "metadata": {},
   "outputs": [
    {
     "name": "stdout",
     "output_type": "stream",
     "text": [
      "      noduleID\n",
      "0         1084\n",
      "1         2412\n",
      "2         2374\n",
      "3          471\n",
      "4         1907\n",
      "...        ...\n",
      "1061      2609\n",
      "1062       904\n",
      "1063      2594\n",
      "1064       290\n",
      "1065      2219\n",
      "\n",
      "[1066 rows x 1 columns]\n"
     ]
    }
   ],
   "source": [
    "tr_df = pd.DataFrame(train_noduleId,columns =['noduleID'])\n",
    "print(tr_df)"
   ]
  },
  {
   "cell_type": "code",
   "execution_count": 14,
   "id": "df37eb39-e640-49d1-b67a-9b6a2afb52f4",
   "metadata": {},
   "outputs": [
    {
     "data": {
      "text/html": [
       "<div>\n",
       "<style scoped>\n",
       "    .dataframe tbody tr th:only-of-type {\n",
       "        vertical-align: middle;\n",
       "    }\n",
       "\n",
       "    .dataframe tbody tr th {\n",
       "        vertical-align: top;\n",
       "    }\n",
       "\n",
       "    .dataframe thead th {\n",
       "        text-align: right;\n",
       "    }\n",
       "</style>\n",
       "<table border=\"1\" class=\"dataframe\">\n",
       "  <thead>\n",
       "    <tr style=\"text-align: right;\">\n",
       "      <th></th>\n",
       "      <th>noduleID</th>\n",
       "      <th>InstanceID</th>\n",
       "      <th>Dataset</th>\n",
       "      <th>Binary Rating</th>\n",
       "      <th>Bin_Rating</th>\n",
       "      <th>Binary_Rating_name</th>\n",
       "      <th>Agreement</th>\n",
       "      <th>Agreement_name</th>\n",
       "      <th>Category</th>\n",
       "    </tr>\n",
       "  </thead>\n",
       "  <tbody>\n",
       "    <tr>\n",
       "      <th>0</th>\n",
       "      <td>1084</td>\n",
       "      <td>15915</td>\n",
       "      <td>1</td>\n",
       "      <td>2</td>\n",
       "      <td>2</td>\n",
       "      <td>Unknown</td>\n",
       "      <td>1</td>\n",
       "      <td>Low Radiologist Agreement</td>\n",
       "      <td>Low/None</td>\n",
       "    </tr>\n",
       "    <tr>\n",
       "      <th>1</th>\n",
       "      <td>2412</td>\n",
       "      <td>36785</td>\n",
       "      <td>2</td>\n",
       "      <td>0</td>\n",
       "      <td>0</td>\n",
       "      <td>Not Spiculated</td>\n",
       "      <td>3</td>\n",
       "      <td>All Radiologist Agreement</td>\n",
       "      <td>Testing</td>\n",
       "    </tr>\n",
       "    <tr>\n",
       "      <th>2</th>\n",
       "      <td>2374</td>\n",
       "      <td>36253</td>\n",
       "      <td>2</td>\n",
       "      <td>0</td>\n",
       "      <td>0</td>\n",
       "      <td>Not Spiculated</td>\n",
       "      <td>2</td>\n",
       "      <td>High Radiologist Agreement</td>\n",
       "      <td>Training</td>\n",
       "    </tr>\n",
       "    <tr>\n",
       "      <th>3</th>\n",
       "      <td>471</td>\n",
       "      <td>6853</td>\n",
       "      <td>2</td>\n",
       "      <td>0</td>\n",
       "      <td>0</td>\n",
       "      <td>Not Spiculated</td>\n",
       "      <td>3</td>\n",
       "      <td>All Radiologist Agreement</td>\n",
       "      <td>Training</td>\n",
       "    </tr>\n",
       "    <tr>\n",
       "      <th>4</th>\n",
       "      <td>1907</td>\n",
       "      <td>29039</td>\n",
       "      <td>2</td>\n",
       "      <td>0</td>\n",
       "      <td>0</td>\n",
       "      <td>Not Spiculated</td>\n",
       "      <td>3</td>\n",
       "      <td>All Radiologist Agreement</td>\n",
       "      <td>Training</td>\n",
       "    </tr>\n",
       "    <tr>\n",
       "      <th>...</th>\n",
       "      <td>...</td>\n",
       "      <td>...</td>\n",
       "      <td>...</td>\n",
       "      <td>...</td>\n",
       "      <td>...</td>\n",
       "      <td>...</td>\n",
       "      <td>...</td>\n",
       "      <td>...</td>\n",
       "      <td>...</td>\n",
       "    </tr>\n",
       "    <tr>\n",
       "      <th>1061</th>\n",
       "      <td>2609</td>\n",
       "      <td>39936</td>\n",
       "      <td>2</td>\n",
       "      <td>0</td>\n",
       "      <td>0</td>\n",
       "      <td>Not Spiculated</td>\n",
       "      <td>3</td>\n",
       "      <td>All Radiologist Agreement</td>\n",
       "      <td>Testing</td>\n",
       "    </tr>\n",
       "    <tr>\n",
       "      <th>1062</th>\n",
       "      <td>904</td>\n",
       "      <td>13301</td>\n",
       "      <td>2</td>\n",
       "      <td>0</td>\n",
       "      <td>0</td>\n",
       "      <td>Not Spiculated</td>\n",
       "      <td>2</td>\n",
       "      <td>High Radiologist Agreement</td>\n",
       "      <td>Training</td>\n",
       "    </tr>\n",
       "    <tr>\n",
       "      <th>1063</th>\n",
       "      <td>2594</td>\n",
       "      <td>39806</td>\n",
       "      <td>2</td>\n",
       "      <td>0</td>\n",
       "      <td>0</td>\n",
       "      <td>Not Spiculated</td>\n",
       "      <td>3</td>\n",
       "      <td>All Radiologist Agreement</td>\n",
       "      <td>Training</td>\n",
       "    </tr>\n",
       "    <tr>\n",
       "      <th>1064</th>\n",
       "      <td>290</td>\n",
       "      <td>4296</td>\n",
       "      <td>2</td>\n",
       "      <td>0</td>\n",
       "      <td>0</td>\n",
       "      <td>Not Spiculated</td>\n",
       "      <td>2</td>\n",
       "      <td>High Radiologist Agreement</td>\n",
       "      <td>Training</td>\n",
       "    </tr>\n",
       "    <tr>\n",
       "      <th>1065</th>\n",
       "      <td>2219</td>\n",
       "      <td>33816</td>\n",
       "      <td>1</td>\n",
       "      <td>2</td>\n",
       "      <td>2</td>\n",
       "      <td>Unknown</td>\n",
       "      <td>1</td>\n",
       "      <td>Low Radiologist Agreement</td>\n",
       "      <td>Low/None</td>\n",
       "    </tr>\n",
       "  </tbody>\n",
       "</table>\n",
       "<p>1066 rows × 9 columns</p>\n",
       "</div>"
      ],
      "text/plain": [
       "      noduleID  InstanceID  Dataset  Binary Rating  Bin_Rating  \\\n",
       "0         1084       15915        1              2           2   \n",
       "1         2412       36785        2              0           0   \n",
       "2         2374       36253        2              0           0   \n",
       "3          471        6853        2              0           0   \n",
       "4         1907       29039        2              0           0   \n",
       "...        ...         ...      ...            ...         ...   \n",
       "1061      2609       39936        2              0           0   \n",
       "1062       904       13301        2              0           0   \n",
       "1063      2594       39806        2              0           0   \n",
       "1064       290        4296        2              0           0   \n",
       "1065      2219       33816        1              2           2   \n",
       "\n",
       "     Binary_Rating_name  Agreement              Agreement_name  Category  \n",
       "0               Unknown          1   Low Radiologist Agreement  Low/None  \n",
       "1        Not Spiculated          3   All Radiologist Agreement   Testing  \n",
       "2        Not Spiculated          2  High Radiologist Agreement  Training  \n",
       "3        Not Spiculated          3   All Radiologist Agreement  Training  \n",
       "4        Not Spiculated          3   All Radiologist Agreement  Training  \n",
       "...                 ...        ...                         ...       ...  \n",
       "1061     Not Spiculated          3   All Radiologist Agreement   Testing  \n",
       "1062     Not Spiculated          2  High Radiologist Agreement  Training  \n",
       "1063     Not Spiculated          3   All Radiologist Agreement  Training  \n",
       "1064     Not Spiculated          2  High Radiologist Agreement  Training  \n",
       "1065            Unknown          1   Low Radiologist Agreement  Low/None  \n",
       "\n",
       "[1066 rows x 9 columns]"
      ]
     },
     "metadata": {},
     "output_type": "display_data"
    }
   ],
   "source": [
    "train_slices = pd.merge(tr_df, training_data)\n",
    "display(train_slices)"
   ]
  },
  {
   "cell_type": "code",
   "execution_count": 15,
   "id": "46cd7dd4-27ed-41be-8fad-7701a86ad6ac",
   "metadata": {},
   "outputs": [
    {
     "name": "stdout",
     "output_type": "stream",
     "text": [
      "     noduleID\n",
      "0         113\n",
      "1        2629\n",
      "2         162\n",
      "3        1437\n",
      "4         165\n",
      "..        ...\n",
      "261       641\n",
      "262       293\n",
      "263       722\n",
      "264        25\n",
      "265       642\n",
      "\n",
      "[266 rows x 1 columns]\n"
     ]
    }
   ],
   "source": [
    "te_df = pd.DataFrame(test_noduleId,columns =['noduleID'])\n",
    "print(te_df)"
   ]
  },
  {
   "cell_type": "code",
   "execution_count": 16,
   "id": "a3408f3c-fc71-4fbd-b5b8-176dc46e27e8",
   "metadata": {},
   "outputs": [
    {
     "data": {
      "text/html": [
       "<div>\n",
       "<style scoped>\n",
       "    .dataframe tbody tr th:only-of-type {\n",
       "        vertical-align: middle;\n",
       "    }\n",
       "\n",
       "    .dataframe tbody tr th {\n",
       "        vertical-align: top;\n",
       "    }\n",
       "\n",
       "    .dataframe thead th {\n",
       "        text-align: right;\n",
       "    }\n",
       "</style>\n",
       "<table border=\"1\" class=\"dataframe\">\n",
       "  <thead>\n",
       "    <tr style=\"text-align: right;\">\n",
       "      <th></th>\n",
       "      <th>noduleID</th>\n",
       "      <th>InstanceID</th>\n",
       "      <th>Dataset</th>\n",
       "      <th>Binary Rating</th>\n",
       "      <th>Bin_Rating</th>\n",
       "      <th>Binary_Rating_name</th>\n",
       "      <th>Agreement</th>\n",
       "      <th>Agreement_name</th>\n",
       "      <th>Category</th>\n",
       "    </tr>\n",
       "  </thead>\n",
       "  <tbody>\n",
       "    <tr>\n",
       "      <th>0</th>\n",
       "      <td>113</td>\n",
       "      <td>1483</td>\n",
       "      <td>2</td>\n",
       "      <td>0</td>\n",
       "      <td>0</td>\n",
       "      <td>Not Spiculated</td>\n",
       "      <td>3</td>\n",
       "      <td>All Radiologist Agreement</td>\n",
       "      <td>Training</td>\n",
       "    </tr>\n",
       "    <tr>\n",
       "      <th>1</th>\n",
       "      <td>2629</td>\n",
       "      <td>40403</td>\n",
       "      <td>1</td>\n",
       "      <td>2</td>\n",
       "      <td>2</td>\n",
       "      <td>Unknown</td>\n",
       "      <td>0</td>\n",
       "      <td>No Radiologist Agreement</td>\n",
       "      <td>Low/None</td>\n",
       "    </tr>\n",
       "    <tr>\n",
       "      <th>2</th>\n",
       "      <td>162</td>\n",
       "      <td>1982</td>\n",
       "      <td>1</td>\n",
       "      <td>2</td>\n",
       "      <td>2</td>\n",
       "      <td>Unknown</td>\n",
       "      <td>1</td>\n",
       "      <td>Low Radiologist Agreement</td>\n",
       "      <td>Low/None</td>\n",
       "    </tr>\n",
       "    <tr>\n",
       "      <th>3</th>\n",
       "      <td>1437</td>\n",
       "      <td>21649</td>\n",
       "      <td>2</td>\n",
       "      <td>0</td>\n",
       "      <td>0</td>\n",
       "      <td>Not Spiculated</td>\n",
       "      <td>2</td>\n",
       "      <td>High Radiologist Agreement</td>\n",
       "      <td>Testing</td>\n",
       "    </tr>\n",
       "    <tr>\n",
       "      <th>4</th>\n",
       "      <td>165</td>\n",
       "      <td>1923</td>\n",
       "      <td>2</td>\n",
       "      <td>0</td>\n",
       "      <td>0</td>\n",
       "      <td>Not Spiculated</td>\n",
       "      <td>2</td>\n",
       "      <td>High Radiologist Agreement</td>\n",
       "      <td>Training</td>\n",
       "    </tr>\n",
       "    <tr>\n",
       "      <th>...</th>\n",
       "      <td>...</td>\n",
       "      <td>...</td>\n",
       "      <td>...</td>\n",
       "      <td>...</td>\n",
       "      <td>...</td>\n",
       "      <td>...</td>\n",
       "      <td>...</td>\n",
       "      <td>...</td>\n",
       "      <td>...</td>\n",
       "    </tr>\n",
       "    <tr>\n",
       "      <th>261</th>\n",
       "      <td>641</td>\n",
       "      <td>9218</td>\n",
       "      <td>2</td>\n",
       "      <td>0</td>\n",
       "      <td>0</td>\n",
       "      <td>Not Spiculated</td>\n",
       "      <td>2</td>\n",
       "      <td>High Radiologist Agreement</td>\n",
       "      <td>Training</td>\n",
       "    </tr>\n",
       "    <tr>\n",
       "      <th>262</th>\n",
       "      <td>293</td>\n",
       "      <td>4301</td>\n",
       "      <td>2</td>\n",
       "      <td>0</td>\n",
       "      <td>0</td>\n",
       "      <td>Not Spiculated</td>\n",
       "      <td>2</td>\n",
       "      <td>High Radiologist Agreement</td>\n",
       "      <td>Training</td>\n",
       "    </tr>\n",
       "    <tr>\n",
       "      <th>263</th>\n",
       "      <td>722</td>\n",
       "      <td>10234</td>\n",
       "      <td>1</td>\n",
       "      <td>2</td>\n",
       "      <td>2</td>\n",
       "      <td>Unknown</td>\n",
       "      <td>1</td>\n",
       "      <td>Low Radiologist Agreement</td>\n",
       "      <td>Low/None</td>\n",
       "    </tr>\n",
       "    <tr>\n",
       "      <th>264</th>\n",
       "      <td>25</td>\n",
       "      <td>360</td>\n",
       "      <td>2</td>\n",
       "      <td>0</td>\n",
       "      <td>0</td>\n",
       "      <td>Not Spiculated</td>\n",
       "      <td>3</td>\n",
       "      <td>All Radiologist Agreement</td>\n",
       "      <td>Training</td>\n",
       "    </tr>\n",
       "    <tr>\n",
       "      <th>265</th>\n",
       "      <td>642</td>\n",
       "      <td>9234</td>\n",
       "      <td>2</td>\n",
       "      <td>0</td>\n",
       "      <td>0</td>\n",
       "      <td>Not Spiculated</td>\n",
       "      <td>3</td>\n",
       "      <td>All Radiologist Agreement</td>\n",
       "      <td>Training</td>\n",
       "    </tr>\n",
       "  </tbody>\n",
       "</table>\n",
       "<p>266 rows × 9 columns</p>\n",
       "</div>"
      ],
      "text/plain": [
       "     noduleID  InstanceID  Dataset  Binary Rating  Bin_Rating  \\\n",
       "0         113        1483        2              0           0   \n",
       "1        2629       40403        1              2           2   \n",
       "2         162        1982        1              2           2   \n",
       "3        1437       21649        2              0           0   \n",
       "4         165        1923        2              0           0   \n",
       "..        ...         ...      ...            ...         ...   \n",
       "261       641        9218        2              0           0   \n",
       "262       293        4301        2              0           0   \n",
       "263       722       10234        1              2           2   \n",
       "264        25         360        2              0           0   \n",
       "265       642        9234        2              0           0   \n",
       "\n",
       "    Binary_Rating_name  Agreement              Agreement_name  Category  \n",
       "0       Not Spiculated          3   All Radiologist Agreement  Training  \n",
       "1              Unknown          0    No Radiologist Agreement  Low/None  \n",
       "2              Unknown          1   Low Radiologist Agreement  Low/None  \n",
       "3       Not Spiculated          2  High Radiologist Agreement   Testing  \n",
       "4       Not Spiculated          2  High Radiologist Agreement  Training  \n",
       "..                 ...        ...                         ...       ...  \n",
       "261     Not Spiculated          2  High Radiologist Agreement  Training  \n",
       "262     Not Spiculated          2  High Radiologist Agreement  Training  \n",
       "263            Unknown          1   Low Radiologist Agreement  Low/None  \n",
       "264     Not Spiculated          3   All Radiologist Agreement  Training  \n",
       "265     Not Spiculated          3   All Radiologist Agreement  Training  \n",
       "\n",
       "[266 rows x 9 columns]"
      ]
     },
     "metadata": {},
     "output_type": "display_data"
    }
   ],
   "source": [
    "test_slices = pd.merge(te_df, testing_data)\n",
    "display(test_slices)"
   ]
  },
  {
   "cell_type": "code",
   "execution_count": 17,
   "id": "c51bf4a2-a1df-4d9c-ae82-8a52c672d858",
   "metadata": {},
   "outputs": [],
   "source": [
    "x_train, x_val, y_train, y_val = sk.train_test_split(train_images,train_slices['Agreement'],test_size=0.2, random_state = 42, shuffle=True)"
   ]
  },
  {
   "cell_type": "code",
   "execution_count": 18,
   "id": "3a62943f-53ef-4298-ae2a-77d6ec34fe07",
   "metadata": {},
   "outputs": [],
   "source": [
    "x_test = test_images\n",
    "y_test_label = test_slices['Agreement']"
   ]
  },
  {
   "cell_type": "code",
   "execution_count": 19,
   "id": "a38da723-eec3-49f2-a14e-dd89332aaf6b",
   "metadata": {},
   "outputs": [
    {
     "name": "stdout",
     "output_type": "stream",
     "text": [
      "852\n",
      "214\n",
      "266\n"
     ]
    }
   ],
   "source": [
    "train_images = np.array(x_train)\n",
    "print(len(train_images))\n",
    "val_images = np.array(x_val)\n",
    "print(len(val_images))\n",
    "test_images = np.array(x_test)\n",
    "print(len(test_images))"
   ]
  },
  {
   "cell_type": "code",
   "execution_count": 20,
   "id": "0507beac-72ea-48bc-8e1d-e54812f08ef9",
   "metadata": {},
   "outputs": [],
   "source": [
    "# Reshape the data so the pixel vectors turn into arrays, and so the instance id's are also arrays\n",
    "train_data = train_images.reshape(train_images.shape[0],71,71,1)  \n",
    "val_data = val_images.reshape(val_images.shape[0],71,71,1)  \n",
    "test_data = test_images.reshape(test_images.shape[0], 71, 71,1)"
   ]
  },
  {
   "cell_type": "code",
   "execution_count": 21,
   "id": "03fae311-bf12-4b74-9d1d-9540e5d49047",
   "metadata": {},
   "outputs": [],
   "source": [
    "train_ids = np.array(y_train)\n",
    "val_ids = np.array(y_val)\n",
    "test_ids = np.array(y_test_label)"
   ]
  },
  {
   "cell_type": "code",
   "execution_count": 22,
   "id": "ae54b880-04b4-457b-83d7-c102d723d2d9",
   "metadata": {},
   "outputs": [],
   "source": [
    "# The number of pixels in each dimension of an image.\n",
    "img_size = 71\n",
    "\n",
    "# The images are stored in one-dimensional arrays of this length.\n",
    "img_size_flat = img_size*img_size\n",
    "\n",
    "# Tuple with height and width of images used to reshape arrays.\n",
    "img_shape = (img_size,img_size)\n",
    "\n",
    "# Number of classes, one class for each of 10 digits.\n",
    "num_classes = 4\n",
    "\n",
    "# Number of colour channels for the images: 1 channel for gray-scale.\n",
    "num_channels = 1"
   ]
  },
  {
   "cell_type": "code",
   "execution_count": 23,
   "id": "5b4dad24-c12f-46e0-ad76-d0d308cd8cac",
   "metadata": {},
   "outputs": [],
   "source": [
    "def one_hot_encoded(class_numbers, num_classes=None):\n",
    "    \"\"\"\n",
    "    Generate the One-Hot encoded class-labels from an array of integers.\n",
    "    For example, if class_number=2 and num_classes=4 then\n",
    "    the one-hot encoded label is the float array: [0. 0. 1. 0.]\n",
    "    :param class_numbers:\n",
    "        Array of integers with class-numbers.\n",
    "        Assume the integers are from zero to num_classes-1 inclusive.\n",
    "    :param num_classes:\n",
    "        Number of classes. If None then use max(class_numbers)+1.\n",
    "    :return:\n",
    "        2-dim array of shape: [len(class_numbers), num_classes]\n",
    "    \"\"\"\n",
    "\n",
    "    # Find the number of classes if None is provided.\n",
    "    # Assumes the lowest class-number is zero.\n",
    "    if num_classes is None:\n",
    "        num_classes = np.max(class_numbers) + 1\n",
    "\n",
    "    return np.eye(num_classes, dtype=float)[class_numbers]"
   ]
  },
  {
   "cell_type": "code",
   "execution_count": 24,
   "id": "62d9b22a-1b23-4c6a-8123-e2619ed610fb",
   "metadata": {},
   "outputs": [],
   "source": [
    "# Convert the integer class-numbers into one-hot encoded arrays.\n",
    "y_train = one_hot_encoded(class_numbers=train_ids,\n",
    "                                       num_classes=num_classes)\n",
    "y_val = one_hot_encoded(class_numbers=val_ids,\n",
    "                                     num_classes=num_classes)\n",
    "y_test = one_hot_encoded(class_numbers=test_ids,\n",
    "                                      num_classes=num_classes)"
   ]
  },
  {
   "cell_type": "code",
   "execution_count": 25,
   "id": "17f5d06b-bbcb-40ab-a4a5-987e4d4b66ed",
   "metadata": {},
   "outputs": [],
   "source": [
    "def new_weights(shape):\n",
    "    return tf.Variable(tf.truncated_normal(shape, stddev=0.05))"
   ]
  },
  {
   "cell_type": "code",
   "execution_count": 26,
   "id": "a0dded3c-7414-44f0-a441-46e66443893a",
   "metadata": {},
   "outputs": [],
   "source": [
    "def new_biases(length):\n",
    "    return tf.Variable(tf.constant(0.05, shape=[length]))"
   ]
  },
  {
   "cell_type": "code",
   "execution_count": 27,
   "id": "82d48fe2-fa81-4783-bcc6-1394afa6cdb1",
   "metadata": {},
   "outputs": [],
   "source": [
    "def new_conv_layer(input,              # The previous layer.\n",
    "                   num_input_channels, # Num. channels in prev. layer.\n",
    "                   filter_size,        # Width and height of each filter.\n",
    "                   num_filters,        # Number of filters.\n",
    "                   use_pooling=True):  # Use 2x2 max-pooling.\n",
    "\n",
    "    # Shape of the filter-weights for the convolution.\n",
    "    # This format is determined by the TensorFlow API.\n",
    "    shape = [filter_size, filter_size, num_input_channels, num_filters]\n",
    "\n",
    "    # Create new weights aka. filters with the given shape.\n",
    "    weights = new_weights(shape=shape)\n",
    "\n",
    "    # Create new biases, one for each filter.\n",
    "    biases = new_biases(length=num_filters)\n",
    "\n",
    "    # Create the TensorFlow operation for convolution.\n",
    "    # Note the strides are set to 1 in all dimensions.\n",
    "    # The first and last stride must always be 1,\n",
    "    # because the first is for the image-number and\n",
    "    # the last is for the input-channel.\n",
    "    # But e.g. strides=[1, 2, 2, 1] would mean that the filter\n",
    "    # is moved 2 pixels across the x- and y-axis of the image.\n",
    "    # The padding is set to 'SAME' which means the input image\n",
    "    # is padded with zeroes so the size of the output is the same.\n",
    "    layer = tf.nn.conv2d(input=input,\n",
    "                         filter=weights,\n",
    "                         strides=[1, 1, 1, 1],\n",
    "                         padding='SAME')\n",
    "\n",
    "    # Add the biases to the results of the convolution.\n",
    "    # A bias-value is added to each filter-channel.\n",
    "    layer += biases\n",
    "\n",
    "    # Use pooling to down-sample the image resolution?\n",
    "    if use_pooling:\n",
    "        # This is 2x2 max-pooling, which means that we\n",
    "        # consider 2x2 windows and select the largest value\n",
    "        # in each window. Then we move 2 pixels to the next window.\n",
    "        layer = tf.nn.max_pool(value=layer,\n",
    "                               ksize=[1, 2, 2, 1],\n",
    "                               strides=[1, 2, 2, 1],\n",
    "                               padding='SAME')\n",
    "\n",
    "    # Rectified Linear Unit (ReLU).\n",
    "    # It calculates max(x, 0) for each input pixel x.\n",
    "    # This adds some non-linearity to the formula and allows us\n",
    "    # to learn more complicated functions.\n",
    "    layer = tf.nn.relu(layer)\n",
    "\n",
    "    # Note that ReLU is normally executed before the pooling,\n",
    "    # but since relu(max_pool(x)) == max_pool(relu(x)) we can\n",
    "    # save 75% of the relu-operations by max-pooling first.\n",
    "\n",
    "    # We return both the resulting layer and the filter-weights\n",
    "    # because we will plot the weights later.\n",
    "    return layer, weights"
   ]
  },
  {
   "cell_type": "code",
   "execution_count": 28,
   "id": "ef5833c0-9f81-40f8-b84c-bc5a7160d02e",
   "metadata": {},
   "outputs": [],
   "source": [
    "def flatten_layer(layer):\n",
    "    # Get the shape of the input layer.\n",
    "    layer_shape = layer.get_shape()\n",
    "\n",
    "    # The shape of the input layer is assumed to be:\n",
    "    # layer_shape == [num_images, img_height, img_width, num_channels]\n",
    "\n",
    "    # The number of features is: img_height * img_width * num_channels\n",
    "    # We can use a function from TensorFlow to calculate this.\n",
    "    num_features = layer_shape[1:4].num_elements()\n",
    "    \n",
    "    # Reshape the layer to [num_images, num_features].\n",
    "    # Note that we just set the size of the second dimension\n",
    "    # to num_features and the size of the first dimension to -1\n",
    "    # which means the size in that dimension is calculated\n",
    "    # so the total size of the tensor is unchanged from the reshaping.\n",
    "    layer_flat = tf.reshape(layer, [-1, num_features])\n",
    "\n",
    "    # The shape of the flattened layer is now:\n",
    "    # [num_images, img_height * img_width * num_channels]\n",
    "\n",
    "    # Return both the flattened layer and the number of features.\n",
    "    return layer_flat, num_features"
   ]
  },
  {
   "cell_type": "code",
   "execution_count": 29,
   "id": "d58d839c-5f4d-4b3d-a3e8-0bcdf20a719e",
   "metadata": {},
   "outputs": [],
   "source": [
    "def new_fc_layer(input,          # The previous layer.\n",
    "                 num_inputs,     # Num. inputs from prev. layer.\n",
    "                 num_outputs,    # Num. outputs.\n",
    "                 use_relu=True): # Use Rectified Linear Unit (ReLU)?\n",
    "\n",
    "    # Create new weights and biases.\n",
    "    weights = new_weights(shape=[num_inputs, num_outputs])\n",
    "    biases = new_biases(length=num_outputs)\n",
    "\n",
    "    # Calculate the layer as the matrix multiplication of\n",
    "    # the input and weights, and then add the bias-values.\n",
    "    layer = tf.matmul(input, weights) + biases\n",
    "\n",
    "    # Use ReLU?\n",
    "    if use_relu:\n",
    "        layer = tf.nn.relu(layer)\n",
    "\n",
    "    return layer"
   ]
  },
  {
   "cell_type": "code",
   "execution_count": 30,
   "id": "984bfcc9-4bd6-45bc-bd1f-aeaf361b454b",
   "metadata": {},
   "outputs": [],
   "source": [
    "x = tf.placeholder(tf.float32, shape=[None, img_size_flat], name='x')"
   ]
  },
  {
   "cell_type": "code",
   "execution_count": 31,
   "id": "252e9588-3a78-4965-8678-d4e58d5a3e9d",
   "metadata": {},
   "outputs": [],
   "source": [
    "y_true = tf.placeholder(tf.float32, shape=[None, num_classes], name='y_true')"
   ]
  },
  {
   "cell_type": "code",
   "execution_count": 32,
   "id": "1736fee6-8434-45df-b623-a2de4b410e55",
   "metadata": {},
   "outputs": [],
   "source": [
    "y_true_cls = tf.argmax(y_true, axis=1)"
   ]
  },
  {
   "cell_type": "code",
   "execution_count": 33,
   "id": "e2751197-144b-4da1-a95c-bcbe6e9487f7",
   "metadata": {},
   "outputs": [],
   "source": [
    "x_image = tf.reshape(x, [-1, img_size, img_size, num_channels])"
   ]
  },
  {
   "cell_type": "code",
   "execution_count": 34,
   "id": "86d6d298-943e-451e-bc71-4278e4592956",
   "metadata": {},
   "outputs": [],
   "source": [
    "layer_conv1, weights_conv1 = \\\n",
    "    new_conv_layer(input=x_image,\n",
    "                   num_input_channels=num_channels,\n",
    "                   filter_size=filter_size1,\n",
    "                   num_filters=num_filters1,\n",
    "                   use_pooling=True)"
   ]
  },
  {
   "cell_type": "code",
   "execution_count": 35,
   "id": "b3c624b2-bb82-4bca-8135-1dd065f5ee1f",
   "metadata": {},
   "outputs": [
    {
     "data": {
      "text/plain": [
       "<tf.Tensor 'Relu:0' shape=(?, 36, 36, 16) dtype=float32>"
      ]
     },
     "execution_count": 35,
     "metadata": {},
     "output_type": "execute_result"
    }
   ],
   "source": [
    "layer_conv1"
   ]
  },
  {
   "cell_type": "code",
   "execution_count": 36,
   "id": "b397a5aa-9c15-4b48-bb80-21fa2487aadf",
   "metadata": {},
   "outputs": [],
   "source": [
    "layer_conv2, weights_conv2 = \\\n",
    "    new_conv_layer(input=layer_conv1,\n",
    "                   num_input_channels=num_filters1,\n",
    "                   filter_size=filter_size2,\n",
    "                   num_filters=num_filters2,\n",
    "                   use_pooling=True)"
   ]
  },
  {
   "cell_type": "code",
   "execution_count": 37,
   "id": "76c9ca97-8ec7-439d-9a75-d0ffad17448c",
   "metadata": {},
   "outputs": [
    {
     "data": {
      "text/plain": [
       "<tf.Tensor 'Relu_1:0' shape=(?, 18, 18, 36) dtype=float32>"
      ]
     },
     "execution_count": 37,
     "metadata": {},
     "output_type": "execute_result"
    }
   ],
   "source": [
    "layer_conv2"
   ]
  },
  {
   "cell_type": "code",
   "execution_count": 38,
   "id": "c7307d9d-5cb7-4242-b3b6-a822b749a357",
   "metadata": {},
   "outputs": [],
   "source": [
    "layer_flat, num_features = flatten_layer(layer_conv2)"
   ]
  },
  {
   "cell_type": "code",
   "execution_count": 39,
   "id": "78dab067-a657-470e-8502-44ebd530e951",
   "metadata": {},
   "outputs": [
    {
     "data": {
      "text/plain": [
       "<tf.Tensor 'Reshape_1:0' shape=(?, 11664) dtype=float32>"
      ]
     },
     "execution_count": 39,
     "metadata": {},
     "output_type": "execute_result"
    }
   ],
   "source": [
    "layer_flat"
   ]
  },
  {
   "cell_type": "code",
   "execution_count": 40,
   "id": "afc507cf-cdb5-4d64-a28b-78b058253363",
   "metadata": {},
   "outputs": [
    {
     "data": {
      "text/plain": [
       "11664"
      ]
     },
     "execution_count": 40,
     "metadata": {},
     "output_type": "execute_result"
    }
   ],
   "source": [
    "num_features"
   ]
  },
  {
   "cell_type": "code",
   "execution_count": 41,
   "id": "95f71fb9-b6af-4dda-b565-f68fba2bb0ed",
   "metadata": {},
   "outputs": [],
   "source": [
    "layer_fc1 = new_fc_layer(input=layer_flat,\n",
    "                         num_inputs=num_features,\n",
    "                         num_outputs=fc_size,\n",
    "                         use_relu=True)"
   ]
  },
  {
   "cell_type": "code",
   "execution_count": 42,
   "id": "6b52ca74-9a76-411f-9998-a75feae1b2af",
   "metadata": {},
   "outputs": [
    {
     "data": {
      "text/plain": [
       "<tf.Tensor 'Relu_2:0' shape=(?, 128) dtype=float32>"
      ]
     },
     "execution_count": 42,
     "metadata": {},
     "output_type": "execute_result"
    }
   ],
   "source": [
    "layer_fc1"
   ]
  },
  {
   "cell_type": "code",
   "execution_count": 43,
   "id": "a7ebfcc7-df9a-41f4-be84-a937a545eea6",
   "metadata": {},
   "outputs": [],
   "source": [
    "layer_fc2 = new_fc_layer(input=layer_fc1,\n",
    "                         num_inputs=fc_size,\n",
    "                         num_outputs=num_classes,\n",
    "                         use_relu=False)"
   ]
  },
  {
   "cell_type": "code",
   "execution_count": 44,
   "id": "9746bee3-bc8b-4491-b5ee-748c40e4896f",
   "metadata": {},
   "outputs": [
    {
     "data": {
      "text/plain": [
       "<tf.Tensor 'add_3:0' shape=(?, 4) dtype=float32>"
      ]
     },
     "execution_count": 44,
     "metadata": {},
     "output_type": "execute_result"
    }
   ],
   "source": [
    "layer_fc2"
   ]
  },
  {
   "cell_type": "code",
   "execution_count": 45,
   "id": "3b021084-95a2-4019-8b38-ee93437cc6f3",
   "metadata": {},
   "outputs": [],
   "source": [
    "y_pred = tf.nn.softmax(layer_fc2)"
   ]
  },
  {
   "cell_type": "code",
   "execution_count": 46,
   "id": "bb773c79-427c-49f4-9ec2-d5af3eb2dd0a",
   "metadata": {},
   "outputs": [],
   "source": [
    "y_pred_cls = tf.argmax(y_pred, axis=1)"
   ]
  },
  {
   "cell_type": "code",
   "execution_count": 47,
   "id": "23c0a3c8-d8aa-47f9-9284-2e95cc65cf12",
   "metadata": {},
   "outputs": [
    {
     "data": {
      "text/plain": [
       "<tf.Tensor 'ArgMax_1:0' shape=(?,) dtype=int64>"
      ]
     },
     "execution_count": 47,
     "metadata": {},
     "output_type": "execute_result"
    }
   ],
   "source": [
    "y_pred_cls"
   ]
  },
  {
   "cell_type": "code",
   "execution_count": 48,
   "id": "ce705cfe-5e93-4d55-a636-583ca0bdb8cf",
   "metadata": {},
   "outputs": [],
   "source": [
    "cross_entropy = tf.nn.softmax_cross_entropy_with_logits_v2(logits=layer_fc2,\n",
    "                                                        labels=y_true)"
   ]
  },
  {
   "cell_type": "code",
   "execution_count": 49,
   "id": "abc1a2d8-6251-440e-9558-ae8d47012b21",
   "metadata": {},
   "outputs": [],
   "source": [
    "cost = tf.reduce_mean(cross_entropy)"
   ]
  },
  {
   "cell_type": "code",
   "execution_count": 50,
   "id": "b08b9acc-256b-44cb-a11f-6f98ca0a696f",
   "metadata": {},
   "outputs": [],
   "source": [
    "optimizer = tf.train.AdamOptimizer(learning_rate=1e-4).minimize(cost)"
   ]
  },
  {
   "cell_type": "code",
   "execution_count": 51,
   "id": "a7c43303-3fa4-4c4d-9de5-8b7121bec93b",
   "metadata": {},
   "outputs": [],
   "source": [
    "correct_prediction = tf.equal(y_pred_cls, y_true_cls)"
   ]
  },
  {
   "cell_type": "code",
   "execution_count": 52,
   "id": "f7ec4643-74fa-4a96-8867-60350643ab55",
   "metadata": {},
   "outputs": [],
   "source": [
    "accuracy = tf.reduce_mean(tf.cast(correct_prediction, tf.float32))"
   ]
  },
  {
   "cell_type": "code",
   "execution_count": 53,
   "id": "42e65185-4630-45ae-bc8a-d3a218d83610",
   "metadata": {},
   "outputs": [],
   "source": [
    "session = tf.Session()"
   ]
  },
  {
   "cell_type": "code",
   "execution_count": 54,
   "id": "dc9d63b9-16b6-4dad-aea4-63058472cd84",
   "metadata": {},
   "outputs": [],
   "source": [
    "session.run(tf.global_variables_initializer())"
   ]
  },
  {
   "cell_type": "code",
   "execution_count": 55,
   "id": "0b7ee6c8-abe2-47ab-ad6c-e2f78b50eef5",
   "metadata": {},
   "outputs": [],
   "source": [
    "train_batch_size = 64"
   ]
  },
  {
   "cell_type": "code",
   "execution_count": 56,
   "id": "6302c31d-d8b5-4b4c-856c-d91b06d6a9f4",
   "metadata": {},
   "outputs": [],
   "source": [
    "def random_batch(batch_size=32):\n",
    "        \"\"\"\n",
    "        Create a random batch of training-data.\n",
    "        :param batch_size: Number of images in the batch.\n",
    "        :return: 3 numpy arrays (x, y, y_cls)\n",
    "        \"\"\"\n",
    "\n",
    "        # Create a random index into the training-set.\n",
    "        idx = np.random.randint(low=0, high=851, size=batch_size)\n",
    "\n",
    "        # Use the index to lookup random training-data.\n",
    "        x_batch = train_data[idx]\n",
    "        y_batch = y_train[idx]\n",
    "        y_batch_cls = train_ids[idx]\n",
    "\n",
    "        return x_batch, y_batch, y_batch_cls"
   ]
  },
  {
   "cell_type": "code",
   "execution_count": 57,
   "id": "dc7369fb-5223-4878-8741-cc07009311e4",
   "metadata": {},
   "outputs": [],
   "source": [
    "# Counter for total number of iterations performed so far.\n",
    "total_iterations = 0\n",
    "\n",
    "def optimize1(num_iterations):\n",
    "    # Ensure we update the global variable rather than a local copy.\n",
    "    global total_iterations\n",
    "\n",
    "    # Start-time used for printing time-usage below.\n",
    "    start_time = time.time()\n",
    "\n",
    "    for i in range(total_iterations,\n",
    "                   total_iterations + num_iterations):\n",
    "\n",
    "        # Get a batch of training examples.\n",
    "        # x_batch now holds a batch of images and\n",
    "        # y_true_batch are the true labels for those images.\n",
    "        x_batch, y_true_batch, _ = random_batch(batch_size=train_batch_size)\n",
    "        x_batch = x_batch.reshape(train_batch_size, img_size_flat)\n",
    "        # Put the batch into a dict with the proper names\n",
    "        # for placeholder variables in the TensorFlow graph.\n",
    "        feed_dict_train = {x: x_batch,\n",
    "                           y_true: y_true_batch}\n",
    "\n",
    "        # Run the optimizer using this batch of training data.\n",
    "        # TensorFlow assigns the variables in feed_dict_train\n",
    "        # to the placeholder variables and then runs the optimizer.\n",
    "        session.run(optimizer, feed_dict=feed_dict_train)\n",
    "\n",
    "        # Print status every 100 iterations.\n",
    "        if i % 100 == 0:\n",
    "            # Calculate the accuracy on the training-set.\n",
    "            acc = session.run(accuracy, feed_dict=feed_dict_train)\n",
    "\n",
    "            # Message for printing.\n",
    "            msg = \"Optimization Iteration: {0:>6}, Training Accuracy: {1:>6.1%}\"\n",
    "\n",
    "            # Print it.\n",
    "            print(msg.format(i + 1, acc))\n",
    "\n",
    "    # Update the total number of iterations performed.\n",
    "    total_iterations += num_iterations\n",
    "\n",
    "    # Ending time.\n",
    "    end_time = time.time()\n",
    "\n",
    "    # Difference between start and end-times.\n",
    "    time_dif = end_time - start_time\n",
    "\n",
    "    # Print the time-usage.\n",
    "    print(\"Time usage: \" + str(timedelta(seconds=int(round(time_dif)))))"
   ]
  },
  {
   "cell_type": "code",
   "execution_count": 58,
   "id": "71ef8bd1-8463-4287-9ebb-ebc2930ad92f",
   "metadata": {},
   "outputs": [],
   "source": [
    "def plot_example_errors(cls_pred, correct):\n",
    "    # This function is called from print_test_accuracy() below.\n",
    "\n",
    "    # cls_pred is an array of the predicted class-number for\n",
    "    # all images in the test-set.\n",
    "\n",
    "    # correct is a boolean array whether the predicted class\n",
    "    # is equal to the true class for each image in the test-set.\n",
    "\n",
    "    # Negate the boolean array.\n",
    "    incorrect = (correct == False)\n",
    "    \n",
    "    # Get the images from the test-set that have been\n",
    "    # incorrectly classified.\n",
    "    images = test_images[incorrect]\n",
    "    \n",
    "    # Get the predicted classes for those images.\n",
    "    cls_pred = cls_pred[incorrect]\n",
    "\n",
    "    # Get the true classes for those images.\n",
    "    cls_true = y_test_label[incorrect]\n",
    "    \n",
    "    # Plot the first 9 images.\n",
    "    plot_images(images=images[0:9],\n",
    "                cls_true=cls_true[0:9],\n",
    "                cls_pred=cls_pred[0:9])"
   ]
  },
  {
   "cell_type": "code",
   "execution_count": 59,
   "id": "ef5e2bea-36bc-4a6f-8f74-3d8ff58834f7",
   "metadata": {},
   "outputs": [],
   "source": [
    "def plot_confusion_matrix(cls_pred):\n",
    "    # This is called from print_test_accuracy() below.\n",
    "\n",
    "    # cls_pred is an array of the predicted class-number for\n",
    "    # all images in the test-set.\n",
    "\n",
    "    # Get the true classifications for the test-set.\n",
    "    cls_true = y_test_label\n",
    "    \n",
    "    # Get the confusion matrix using sklearn.\n",
    "    cm = confusion_matrix(y_true=cls_true,\n",
    "                          y_pred=cls_pred)\n",
    "\n",
    "    # Print the confusion matrix as text.\n",
    "    print(cm)\n",
    "\n",
    "    # Plot the confusion matrix as an image.\n",
    "    plt.matshow(cm)\n",
    "\n",
    "    # Make various adjustments to the plot.\n",
    "    plt.colorbar()\n",
    "    tick_marks = np.arange(num_classes)\n",
    "    plt.xticks(tick_marks, range(num_classes))\n",
    "    plt.yticks(tick_marks, range(num_classes))\n",
    "    plt.xlabel('Predicted')\n",
    "    plt.ylabel('True')\n",
    "\n",
    "    # Ensure the plot is shown correctly with multiple plots\n",
    "    # in a single Notebook cell.\n",
    "    plt.show()"
   ]
  },
  {
   "cell_type": "code",
   "execution_count": 60,
   "id": "5aa4a77e-5cd7-457f-a6fa-174132a2f955",
   "metadata": {},
   "outputs": [],
   "source": [
    "# Split the test-set into smaller batches of this size.\n",
    "test_batch_size = 266\n",
    "\n",
    "def print_test_accuracy(show_example_errors=False,\n",
    "                        show_confusion_matrix=False):\n",
    "\n",
    "    # Number of images in the test-set.\n",
    "    num_test = 266\n",
    "\n",
    "    # Allocate an array for the predicted classes which\n",
    "    # will be calculated in batches and filled into this array.\n",
    "    cls_pred = np.zeros(shape=num_test, dtype=np.int)\n",
    "\n",
    "    # Now calculate the predicted classes for the batches.\n",
    "    # We will just iterate through all the batches.\n",
    "    # There might be a more clever and Pythonic way of doing this.\n",
    "\n",
    "    # The starting index for the next batch is denoted i.\n",
    "    i = 0\n",
    "\n",
    "    while i < num_test:\n",
    "        # The ending index for the next batch is denoted j.\n",
    "        j = min(i + test_batch_size, num_test)\n",
    "\n",
    "        # Get the images from the test-set between index i and j.\n",
    "        images = test_images[i:j, :].reshape(test_batch_size, img_size_flat)\n",
    "\n",
    "        # Get the associated labels.\n",
    "        labels = y_test[i:j, :]\n",
    "\n",
    "        # Create a feed-dict with these images and labels.\n",
    "        feed_dict = {x: images,\n",
    "                     y_true: labels}\n",
    "        #print(feed_dict)\n",
    "        # Calculate the predicted class using TensorFlow.\n",
    "        cls_pred[i:j] = session.run(y_pred_cls, feed_dict=feed_dict)\n",
    "\n",
    "        # Set the start-index for the next batch to the\n",
    "        # end-index of the current batch.\n",
    "        i = j\n",
    "\n",
    "    # Convenience variable for the true class-numbers of the test-set.\n",
    "    cls_true = test_ids\n",
    "\n",
    "    # Create a boolean array whether each image is correctly classified.\n",
    "    correct = (cls_true == cls_pred)\n",
    "\n",
    "    # Calculate the number of correctly classified images.\n",
    "    # When summing a boolean array, False means 0 and True means 1.\n",
    "    correct_sum = correct.sum()\n",
    "\n",
    "    # Classification accuracy is the number of correctly classified\n",
    "    # images divided by the total number of images in the test-set.\n",
    "    acc = float(correct_sum) / num_test\n",
    "\n",
    "    # Print the accuracy.\n",
    "    msg = \"Accuracy on Test-Set: {0:.1%} ({1} / {2})\"\n",
    "    print(msg.format(acc, correct_sum, num_test))\n",
    "\n",
    "    # Plot some examples of mis-classifications, if desired.\n",
    "    if show_example_errors:\n",
    "        print(\"Example errors:\")\n",
    "        plot_example_errors(cls_pred=cls_pred, correct=correct)\n",
    "\n",
    "    # Plot the confusion matrix, if desired.\n",
    "    if show_confusion_matrix:\n",
    "        print(\"Confusion Matrix:\")\n",
    "        plot_confusion_matrix(cls_pred=cls_pred)"
   ]
  },
  {
   "cell_type": "code",
   "execution_count": 61,
   "id": "c639c4a3-313c-47b7-b789-0ab9c50b7f14",
   "metadata": {},
   "outputs": [
    {
     "name": "stdout",
     "output_type": "stream",
     "text": [
      "Accuracy on Test-Set: 32.3% (86 / 266)\n"
     ]
    },
    {
     "name": "stderr",
     "output_type": "stream",
     "text": [
      "<ipython-input-60-9658df643920>:12: DeprecationWarning: `np.int` is a deprecated alias for the builtin `int`. To silence this warning, use `int` by itself. Doing this will not modify any behavior and is safe. When replacing `np.int`, you may wish to use e.g. `np.int64` or `np.int32` to specify the precision. If you wish to review your current use, check the release note link for additional information.\n",
      "Deprecated in NumPy 1.20; for more details and guidance: https://numpy.org/devdocs/release/1.20.0-notes.html#deprecations\n",
      "  cls_pred = np.zeros(shape=num_test, dtype=np.int)\n"
     ]
    }
   ],
   "source": [
    "print_test_accuracy()"
   ]
  },
  {
   "cell_type": "code",
   "execution_count": 63,
   "id": "e706961f-749f-4167-b487-5bd076311342",
   "metadata": {},
   "outputs": [
    {
     "name": "stdout",
     "output_type": "stream",
     "text": [
      "Optimization Iteration:      1, Training Accuracy:  43.8%\n",
      "Optimization Iteration:    101, Training Accuracy:  68.8%\n",
      "Optimization Iteration:    201, Training Accuracy:  93.8%\n",
      "Optimization Iteration:    301, Training Accuracy:  98.4%\n",
      "Optimization Iteration:    401, Training Accuracy: 100.0%\n",
      "Time usage: 0:00:09\n"
     ]
    }
   ],
   "source": [
    "optimize1(num_iterations=500) "
   ]
  },
  {
   "cell_type": "code",
   "execution_count": 64,
   "id": "bdb6ebce-b36a-4f4e-ae46-3aab4b4a51f4",
   "metadata": {},
   "outputs": [],
   "source": [
    "session.close()"
   ]
  },
  {
   "cell_type": "code",
   "execution_count": null,
   "id": "a7f7887b-faff-4991-9f89-3b7f846b1c40",
   "metadata": {},
   "outputs": [],
   "source": []
  }
 ],
 "metadata": {
  "kernelspec": {
   "display_name": "Python 3",
   "language": "python",
   "name": "python3"
  },
  "language_info": {
   "codemirror_mode": {
    "name": "ipython",
    "version": 3
   },
   "file_extension": ".py",
   "mimetype": "text/x-python",
   "name": "python",
   "nbconvert_exporter": "python",
   "pygments_lexer": "ipython3",
   "version": "3.9.7"
  }
 },
 "nbformat": 4,
 "nbformat_minor": 5
}
